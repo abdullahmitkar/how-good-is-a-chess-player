{
  "nbformat": 4,
  "nbformat_minor": 0,
  "metadata": {
    "colab": {
      "name": "CleanDSFFeaturesFinalChess.ipynb",
      "provenance": [],
      "collapsed_sections": [],
      "machine_shape": "hm"
    },
    "kernelspec": {
      "name": "python3",
      "display_name": "Python 3"
    },
    "accelerator": "GPU"
  },
  "cells": [
    {
      "cell_type": "code",
      "metadata": {
        "id": "5ZocIN3MtmcU",
        "colab_type": "code",
        "outputId": "f6504350-e277-4683-ec7f-c5e848d2983a",
        "colab": {
          "base_uri": "https://localhost:8080/",
          "height": 122
        }
      },
      "source": [
        "from google.colab import drive\n",
        "drive.mount('/content/drive')"
      ],
      "execution_count": 1,
      "outputs": [
        {
          "output_type": "stream",
          "text": [
            "Go to this URL in a browser: https://accounts.google.com/o/oauth2/auth?client_id=947318989803-6bn6qk8qdgf4n4g3pfee6491hc0brc4i.apps.googleusercontent.com&redirect_uri=urn%3aietf%3awg%3aoauth%3a2.0%3aoob&response_type=code&scope=email%20https%3a%2f%2fwww.googleapis.com%2fauth%2fdocs.test%20https%3a%2f%2fwww.googleapis.com%2fauth%2fdrive%20https%3a%2f%2fwww.googleapis.com%2fauth%2fdrive.photos.readonly%20https%3a%2f%2fwww.googleapis.com%2fauth%2fpeopleapi.readonly\n",
            "\n",
            "Enter your authorization code:\n",
            "··········\n",
            "Mounted at /content/drive\n"
          ],
          "name": "stdout"
        }
      ]
    },
    {
      "cell_type": "code",
      "metadata": {
        "id": "42hdzM-Sgfhv",
        "colab_type": "code",
        "colab": {
          "base_uri": "https://localhost:8080/",
          "height": 34
        },
        "outputId": "db60dde2-a198-4371-e20d-517f7bdf279d"
      },
      "source": [
        "%tensorflow_version 2.x"
      ],
      "execution_count": 2,
      "outputs": [
        {
          "output_type": "stream",
          "text": [
            "TensorFlow 2.x selected.\n"
          ],
          "name": "stdout"
        }
      ]
    },
    {
      "cell_type": "code",
      "metadata": {
        "id": "JWAMoStJIgEj",
        "colab_type": "code",
        "colab": {}
      },
      "source": [
        "import pandas as pd\n",
        "import numpy as np\n",
        "from datetime import datetime\n",
        "import warnings\n",
        "warnings.filterwarnings(\"ignore\") \n",
        "import sklearn\n",
        "import matplotlib.pyplot as plt\n",
        "import seaborn as sns\n",
        "from sklearn.linear_model import LinearRegression\n",
        "from sklearn.model_selection import train_test_split\n",
        "from sklearn import metrics\n",
        "from sklearn.ensemble import RandomForestRegressor\n",
        "from yellowbrick.regressor import PredictionError\n",
        "from sklearn.decomposition import PCA\n",
        "import statsmodels.api as sm\n",
        "from statsmodels.formula.api import ols\n",
        "from sklearn import preprocessing\n",
        "from numpy import loadtxt\n",
        "from xgboost import XGBRegressor\n",
        "from sklearn.model_selection import train_test_split\n",
        "from sklearn.metrics import accuracy_score\n",
        "from numpy import loadtxt\n",
        "from xgboost import XGBRegressor"
      ],
      "execution_count": 0,
      "outputs": []
    },
    {
      "cell_type": "code",
      "metadata": {
        "id": "AI51E36j1w3_",
        "colab_type": "code",
        "colab": {}
      },
      "source": [
        "def applyFunctionOverArrayInColumn(dataframe, columnName, newColumnName, func, containsApostrophe, isNums=False):\n",
        "  dataframe[newColumnName] = dataframe[columnName]\n",
        "  if containsApostrophe:\n",
        "    dataframe.loc[:, newColumnName] = dataframe[newColumnName].map(lambda x: [y[1:-1] for index, y in enumerate(x)])\n",
        "\n",
        "  if isNums:\n",
        "    dataframe.loc[:, newColumnName] = dataframe[newColumnName].map(lambda x: x[1:-1])\n",
        "    dataframe.loc[:, newColumnName] = dataframe[newColumnName].str.split(', ')\n",
        "    dataframe.loc[:, newColumnName] = dataframe[newColumnName].map(lambda x: [int(y) for y in x if len(y) != 0])\n",
        "  dataframe.loc[:, newColumnName] = dataframe[newColumnName].map(func)\n",
        "  "
      ],
      "execution_count": 0,
      "outputs": []
    },
    {
      "cell_type": "code",
      "metadata": {
        "id": "hyqYOuM61KtV",
        "colab_type": "code",
        "colab": {}
      },
      "source": [
        "LOG_LEVEL = 2 # 1 INFO, 2 DEBUG\n",
        "def log(message, level=2):\n",
        "  if level<=LOG_LEVEL:\n",
        "    print(datetime.now(), message)\n",
        "\n",
        "def init(csv_file='Kaggle/kaggle_test.csv'):\n",
        " \n",
        "  complete_dataset = pd.read_csv(csv_file)\n",
        "  complete_dataset=pd.DataFrame(complete_dataset)\n",
        "  complete_dataset=complete_dataset.head(complete_dataset.shape[0]-1)\n",
        "  complete_dataset[complete_dataset['Event']=='Event']\n",
        "\n",
        "  x=complete_dataset['Event']\n",
        "  indexNames=x[x=='Event'].index\n",
        "  complete_dataset.drop(indexNames , inplace=True)\n",
        "\n",
        "  complete_dataset['Event'][complete_dataset['Event'].str.contains('Blitz')]='Blitz'\n",
        "  complete_dataset['Event'][complete_dataset['Event'].str.contains('Classic')]='Classic'\n",
        "  complete_dataset['Event'][complete_dataset['Event'].str.contains('Bullet')]='Bullet'\n",
        "  complete_dataset['Event'][complete_dataset['Event'].str.contains('Correspondence')]='Correspondence'\n",
        "\n",
        "  log(\"Completed reading dataset from csv file: \"+csv_file)\n",
        "  complete_dataset['BlackMoves']=complete_dataset['Moves']\t\n",
        "  complete_dataset['BlackMoves'] = complete_dataset['BlackMoves'].str[1:]\n",
        "  complete_dataset['BlackMoves'] = complete_dataset['BlackMoves'].str[:-1]\n",
        "  complete_dataset['BlackMoves']=complete_dataset['BlackMoves'].str.split(', ')\n",
        "  \n",
        "  complete_dataset.loc[:, 'BlackMoves'] = complete_dataset.BlackMoves.map(lambda x: x[1::2])\n",
        "  \n",
        "  complete_dataset['WhiteMoves']=complete_dataset['Moves']\n",
        "  complete_dataset['WhiteMoves'] = complete_dataset['WhiteMoves'].str[1:]\n",
        "  complete_dataset['WhiteMoves'] = complete_dataset['WhiteMoves'].str[:-1]\n",
        "  complete_dataset['WhiteMoves']=complete_dataset['WhiteMoves'].str.split(', ')\n",
        "  complete_dataset.loc[:, 'WhiteMoves'] = complete_dataset.WhiteMoves.map(lambda x: x[0::2])\n",
        "  le = preprocessing.LabelEncoder()\n",
        "  le.fit(complete_dataset['ECO'])\n",
        "  complete_dataset['ECO_Labels']=le.transform(complete_dataset['ECO'])\n",
        "  log(\"Extracted features: BlackMoves and WhiteMoves\")\n",
        "  min_moves = 10\n",
        "  applyFunctionOverArrayInColumn(complete_dataset, 'WhiteCenter', 'White_Open_Center', lambda x: np.mean(x[:10]) if len(x) > min_moves else 0.0, False, True)\n",
        "  applyFunctionOverArrayInColumn(complete_dataset, 'WhiteCenter', 'White_Mid_Center', lambda x: np.mean(x[10:28]) if len(x) > min_moves else 0.0, False, True)\n",
        "  applyFunctionOverArrayInColumn(complete_dataset, 'WhiteCenter', 'White_End_Center', lambda x: np.mean(x[28:]) if len(x) > min_moves else 0.0, False, True)\n",
        "  applyFunctionOverArrayInColumn(complete_dataset, 'BlackCenter', 'Black_Open_Center', lambda x: np.mean(x[:10]) if len(x) > min_moves else 0.0, False, True)\n",
        "  applyFunctionOverArrayInColumn(complete_dataset, 'BlackCenter', 'Black_Mid_Center', lambda x: np.mean(x[10:28]) if len(x) > min_moves else 0.0, False, True)\n",
        "  applyFunctionOverArrayInColumn(complete_dataset, 'BlackCenter', 'Black_End_Center', lambda x: np.mean(x[28:]) if len(x) > min_moves else 0.0, False, True)\n",
        "  \n",
        "  applyFunctionOverArrayInColumn(complete_dataset, 'WhiteDiag', 'White_Open_Diag', lambda x: np.mean(x[:10]) if len(x) > min_moves else 0.0, False, True)\n",
        "  applyFunctionOverArrayInColumn(complete_dataset, 'WhiteDiag', 'White_Mid_Diag', lambda x: np.mean(x[10:28]) if len(x) > min_moves else 0.0, False, True)\n",
        "  applyFunctionOverArrayInColumn(complete_dataset, 'WhiteDiag', 'White_End_Diag', lambda x: np.mean(x[28:]) if len(x) > min_moves else 0.0, False, True)\n",
        "  applyFunctionOverArrayInColumn(complete_dataset, 'BlackDiag', 'Black_Open_Diag', lambda x: np.mean(x[:10]) if len(x) > min_moves else 0.0, False, True)\n",
        "  applyFunctionOverArrayInColumn(complete_dataset, 'BlackDiag', 'Black_Mid_Diag', lambda x: np.mean(x[10:28]) if len(x) > min_moves else 0.0, False, True)\n",
        "  applyFunctionOverArrayInColumn(complete_dataset, 'BlackDiag', 'Black_End_Diag', lambda x: np.mean(x[28:]) if len(x) > min_moves else 0.0, False, True)\n",
        "\n",
        "  applyFunctionOverArrayInColumn(complete_dataset, 'WhitePins', 'White_Open_Pins', lambda x: np.sum(x[:10]) if len(x) > min_moves else 0.0, False, True)\n",
        "  applyFunctionOverArrayInColumn(complete_dataset, 'WhitePins', 'White_Mid_Pins', lambda x: np.sum(x[10:28]) if len(x) > min_moves else 0.0, False, True)\n",
        "  applyFunctionOverArrayInColumn(complete_dataset, 'WhitePins', 'White_End_Pins', lambda x: np.sum(x[28:]) if len(x) > min_moves else 0.0, False, True)\n",
        "  applyFunctionOverArrayInColumn(complete_dataset, 'BlackPins', 'Black_Open_Pins', lambda x: np.sum(x[:10]) if len(x) > min_moves else 0.0, False, True)\n",
        "  applyFunctionOverArrayInColumn(complete_dataset, 'BlackPins', 'Black_Mid_Pins', lambda x: np.sum(x[10:28]) if len(x) > min_moves else 0.0, False, True)\n",
        "  applyFunctionOverArrayInColumn(complete_dataset, 'BlackPins', 'Black_End_Pins', lambda x: np.sum(x[28:]) if len(x) > min_moves else 0.0, False, True)\n",
        "  complete_dataset['Black_End_Center'].fillna(0, inplace=True)\n",
        "  complete_dataset['White_End_Diag'].fillna(0, inplace=True)\n",
        "  complete_dataset['Black_End_Diag'].fillna(0, inplace=True)\n",
        "  complete_dataset['White_End_Center'].fillna(0, inplace=True)\n",
        "  log(\"Extracted features: Center Control\")\n",
        "  complete_dataset['BlackComments']=complete_dataset['Comments']\n",
        "  complete_dataset['BlackComments'] = complete_dataset['BlackComments'].str[1:]\n",
        "  complete_dataset['BlackComments'] = complete_dataset['BlackComments'].str[:-1]\n",
        "  complete_dataset['BlackComments']=complete_dataset['BlackComments'].str.split(', ')\n",
        "  complete_dataset.loc[:, 'BlackComments'] = complete_dataset.BlackComments.map(lambda x: x[1::2])\n",
        "  complete_dataset['WhiteComments']=complete_dataset['Comments']\n",
        "  complete_dataset['WhiteComments'] = complete_dataset['WhiteComments'].str[1:]\n",
        "  complete_dataset['WhiteComments'] = complete_dataset['WhiteComments'].str[:-1]\n",
        "  complete_dataset['WhiteComments']=complete_dataset['WhiteComments'].str.split(', ')\n",
        "  complete_dataset.loc[:, 'WhiteComments'] = complete_dataset.WhiteComments.map(lambda x: x[0::2])\n",
        "\n",
        "  log(\"Extracted features: Black Comment and White Comments.\")\n",
        "  complete_dataset = complete_dataset[complete_dataset.Opening != '?']\n",
        "  complete_dataset['IsWhiteOpeningMove']=complete_dataset['Opening']\n",
        "  complete_dataset.loc[:, 'IsWhiteOpeningMove'] = complete_dataset.IsWhiteOpeningMove.map(lambda x: (1, 0)[\"Defense\" in x and \"Reversed\" not in x])\n",
        "  log(\"Extracted features: IsWhiteOpeningMove\")\n",
        "\n",
        "  complete_dataset['EngineEvalsMoves'] = complete_dataset['EngineEvals']\n",
        "  complete_dataset['EngineEvalsMoves'] = complete_dataset['EngineEvalsMoves'].str[1:]\n",
        "  complete_dataset['EngineEvalsMoves'] = complete_dataset['EngineEvalsMoves'].str[:-1]\n",
        "  complete_dataset['EngineEvalsMoves'] = complete_dataset['EngineEvalsMoves'].str.split(', ')\n",
        "  complete_dataset.loc[:, 'EngineEvalsMoves'] = complete_dataset.EngineEvalsMoves.map(lambda x: [int(xi[1:-1]) if xi[1] == '+' else int(xi[1:-1]) for xi in x if xi[1] != '#'])\n",
        "  \n",
        "  complete_dataset['Gains'] = complete_dataset['EngineEvalsMoves']\n",
        "  complete_dataset.loc[:, 'Gains']=complete_dataset.Gains.map(lambda x : get_gains(x))\n",
        "  complete_dataset['WhiteGains'] = complete_dataset['Gains']\n",
        "  complete_dataset['BlackGains'] = complete_dataset['Gains']\n",
        "  complete_dataset.loc[:, 'WhiteGains'] = complete_dataset.WhiteGains.map(lambda x: x[0::2])\n",
        "  complete_dataset.loc[:, 'BlackGains'] = complete_dataset.BlackGains.map(lambda x: x[1::2])\n",
        "\n",
        "\n",
        "\n",
        "\n",
        "  log(\"Basic feature extraction complete.\", 1)\n",
        "  return complete_dataset"
      ],
      "execution_count": 0,
      "outputs": []
    },
    {
      "cell_type": "code",
      "metadata": {
        "id": "6i1toUb9FnLH",
        "colab_type": "code",
        "colab": {}
      },
      "source": [
        "def split_by_type(complete_dataset):\n",
        "  blitz_chess_df = complete_dataset[complete_dataset['Event']=='Blitz']\n",
        "  bullet_chess_df = complete_dataset[complete_dataset['Event']=='Bullet']\n",
        "  classic_chess_df = complete_dataset[complete_dataset['Event']=='Classic']\n",
        "  return blitz_chess_df, bullet_chess_df, classic_chess_df\n",
        "  \n",
        "def get_player_scores(interested):\n",
        "  analysis=interested[['PlayerMoves']]\n",
        "  list_of_all_scores = []\n",
        "  i=0;\n",
        "  for move in list(analysis['PlayerMoves']):\n",
        "    i+=1;\n",
        "    list_of_scores=[]\n",
        "    capture=sum('x' in char_in_move for char_in_move in list(move))\n",
        "    list_of_scores.append(capture)#Capture\n",
        "    check = sum('+' in char_in_move for char_in_move in move)\n",
        "    list_of_scores.append(check)#Check\n",
        "    checkmate=sum('#' in char_in_move for char_in_move in move)\n",
        "    list_of_scores.append(checkmate)#Checkmate\n",
        "    castling =sum((\"O-O\") in char_in_move for char_in_move in move) + sum((\"O-O-O\") in char_in_move for char_in_move in move)\n",
        "    list_of_scores.append(castling) #Castling\n",
        "    promoteQueen=sum((\"=Q\") in char_in_move for char_in_move in move)\n",
        "    list_of_scores.append(promoteQueen) #PrmoteQueen\n",
        "    promote=sum((\"=\") in char_in_move for char_in_move in move)\n",
        "    list_of_scores.append(promote) #PRomote\n",
        "    list_of_all_scores.append(list_of_scores)\n",
        "  player_scores = pd.DataFrame(list_of_all_scores)\n",
        "  player_scores.columns = ['PlayerCaptures','PlayerChecks', 'PlayerCheckMate','PlayerCastling','PlayerPromoteQueen','PlayerPromote']\n",
        "  return player_scores"
      ],
      "execution_count": 0,
      "outputs": []
    },
    {
      "cell_type": "code",
      "metadata": {
        "id": "GSqpdr2uF6OQ",
        "colab_type": "code",
        "colab": {}
      },
      "source": [
        "def get_opponent_scores(interested):\n",
        "  analysis=interested[['OpponentMoves']]\n",
        "  list_of_all_scores = []\n",
        "  i=0;\n",
        "  for move in list(analysis['OpponentMoves']):\n",
        "    i+=1;\n",
        "    list_of_scores=[]\n",
        "    capture=sum('x' in char_in_move for char_in_move in list(move))\n",
        "    list_of_scores.append(capture)#Capture\n",
        "    check = sum('+' in char_in_move for char_in_move in move)\n",
        "    list_of_scores.append(check)#Check\n",
        "    checkmate=sum('#' in char_in_move for char_in_move in move)\n",
        "    list_of_scores.append(checkmate)#Checkmate\n",
        "    castling =sum((\"O-O\") in char_in_move for char_in_move in move) + sum((\"O-O-O\") in char_in_move for char_in_move in move)\n",
        "    \n",
        "    list_of_scores.append(castling) #Castling\n",
        "    promoteQueen=sum((\"=Q\") in char_in_move for char_in_move in move)\n",
        "    list_of_scores.append(promoteQueen) #PrmoteQueen\n",
        "    promote=sum((\"=\") in char_in_move for char_in_move in move)\n",
        "    list_of_scores.append(promote) #PRomote\n",
        "    list_of_all_scores.append(list_of_scores)\n",
        "  opponent_scores = pd.DataFrame(list_of_all_scores)\n",
        "  opponent_scores.columns = ['OpponentCaptures','OpponentChecks', 'OpponentCheckMate','OpponentCastling','OpponentPromoteQueen','OpponentPromote']\n",
        "  return opponent_scores"
      ],
      "execution_count": 0,
      "outputs": []
    },
    {
      "cell_type": "code",
      "metadata": {
        "id": "H7FzxVmbHTLr",
        "colab_type": "code",
        "colab": {}
      },
      "source": [
        "def get_d_score(x):\n",
        "  a=x[6]\n",
        "  b=x[19]\n",
        "  white_hist, white_bins = np.histogram(a, bins=200, range=(-1000,1000))\n",
        "  black_hist, black_bins = np.histogram(b, bins=200, range=(-1000,1000))\n",
        "  cross_correlation = np.correlate(white_hist, black_hist, 'full')\n",
        "  p = 0.5 * cross_correlation[0] + sum(cross_correlation[1:])\n",
        "  d = 200 * math.pow(2, 0.5) * norm.ppf(p /1000)\n",
        "  \n",
        "  if np.isnan(d):\n",
        "    return 200 * math.pow(2, 0.5)\n",
        "  else:\n",
        "    return d\n",
        "    \n"
      ],
      "execution_count": 0,
      "outputs": []
    },
    {
      "cell_type": "code",
      "metadata": {
        "id": "nfek3Hf1SskQ",
        "colab_type": "code",
        "colab": {
          "base_uri": "https://localhost:8080/",
          "height": 833
        },
        "outputId": "2e7f2d44-d315-4661-ccdc-02bc074794db"
      },
      "source": [
        "interested.Diff.unique()"
      ],
      "execution_count": 55,
      "outputs": [
        {
          "output_type": "execute_result",
          "data": {
            "text/plain": [
              "array([-213.6636351 ,  -41.98357165, -814.06707323,  681.3442071 ,\n",
              "       -488.73363072, -362.47752097, -256.75599613,           nan,\n",
              "         36.97205899,  318.59152224,  -57.10409927, -449.51274668,\n",
              "       -300.52584151,  362.47752097, -554.36152974, -315.93155591,\n",
              "        196.14953915, -606.53091668,  498.48490914, -580.88791262,\n",
              "        172.47505324, -228.0903729 , -395.52063649, -301.77553393,\n",
              "       -285.96369178, -242.1122264 ,  129.1296862 , -101.38745739,\n",
              "       -330.92665454,  -86.40301471, -171.62198968,    4.25404962,\n",
              "       -129.1296862 , -100.6317924 ,  149.95230117, -115.12006025,\n",
              "       -379.22279049, -432.7684669 ,  -11.34674741,   19.86780941,\n",
              "       -199.7725327 , -430.4968591 , -413.24911825, -143.46366746,\n",
              "         71.65738185,  -71.65738185,  222.2504019 ,  495.16879708,\n",
              "       -531.96876573, -157.34779577, -508.8674454 , -186.34744009,\n",
              "       -272.12262123, -669.09784768, -270.99852269, -346.9145404 ,\n",
              "         54.21271789,  221.28628537,   20.5786057 , -638.41255792,\n",
              "       -129.9170431 , -874.04968765,  282.44002099, -467.99944404,\n",
              "        250.39795187,  108.98508589,  -42.70054241,  417.41673746,\n",
              "        171.62198968, -185.46751247,  281.27516513,  -72.38972629,\n",
              "         90.124822  ,   53.49076867, -364.09509776,  -26.98216778,\n",
              "       -710.54171584,   89.37923177, -332.33645139, -243.13650699,\n",
              "         70.19412769, -382.73544832,  -12.05633613, -349.94278999,\n",
              "       -145.07862865,  315.93155591, -470.80947475, -512.4857295 ,\n",
              "       -201.59635834,  277.80887455, -214.60791063, -158.17610366,\n",
              "        148.32286344, -258.90434435,  360.87171361,    2.83597368,\n",
              "        128.34332869,  485.60869846,  -74.58969571,  194.35007698,\n",
              "        413.24911825,  -28.40694593, -750.11861814, -173.32968862,\n",
              "        169.07209546, -417.41673746,  248.30656936, -116.66219033,\n",
              "        -87.8899068 , -397.41425134,   51.32699088,   35.5423962 ,\n",
              "        -44.85312091,  657.99054285,  218.40922326, -318.59152224,\n",
              "        -58.55201191,   17.73615516,  107.45943248, -613.79424871,\n",
              "         32.68575558, -103.65882598, -681.3442071 ,  244.16398614,\n",
              "       -217.45521721, -230.05871528,  149.54447705,  127.950522  ,\n",
              "       -234.02924218,  171.1960431 ,  125.99016673,  493.53594888,\n",
              "         87.14615972, -454.59835336, -246.22867532, -305.56045269,\n",
              "       -559.28424979,   67.27320449,  416.36634136, -288.33767271,\n",
              "        496.81831677,  484.06820674, -160.66922662,  -61.4524867 ,\n",
              "        -14.18557559,  -12.41115867,  310.69378758, -188.99813084,\n",
              "        356.12272826,  669.09784768, -132.28519696, -540.52250619,\n",
              "        249.35055651,  281.85699548,  675.06288951, -275.52101125,\n",
              "        249.87382588,    2.48146722, -657.99054285,  145.07862865,\n",
              "        -42.34202302, -228.58142016, -286.55529455, -495.16879708,\n",
              "        621.48643885, -301.14995285, -347.66786939,  220.32473314,\n",
              "        361.67316008, -369.02075328,  -43.05913042, -593.10064193,\n",
              "        108.60337689,  164.85247286,  405.17295519, -143.86696744,\n",
              "        -72.02349371,  195.6989316 ,   36.61455615,  317.92389363,\n",
              "       -185.90725137, -144.27056013,   20.22319159,    3.899522  ,\n",
              "        -11.70153256,  491.91938518,   71.29139   ,   53.85169942,\n",
              "       -145.88788307, -172.04832583, -272.68628531])"
            ]
          },
          "metadata": {
            "tags": []
          },
          "execution_count": 55
        }
      ]
    },
    {
      "cell_type": "code",
      "metadata": {
        "id": "OCxfDBMyGiZ1",
        "colab_type": "code",
        "colab": {}
      },
      "source": [
        "def get_player_comments(interested):\n",
        "  analysis=interested[['PlayerComments']]\n",
        "  list_ = []\n",
        "  i=0;\n",
        "  for comment in list(analysis['PlayerComments']):\n",
        "    scores = [int (x) for x in comment]\n",
        "    i+=1;\n",
        "    \n",
        "    li=[]\n",
        "    if len(scores)==0: \n",
        "      scores.append(-1)\n",
        "    poor=scores.count(2)/len(comment)\n",
        "    li.append(poor)\n",
        "    blunder = scores.count(4)/len(comment)\n",
        "    li.append(blunder)\n",
        "    questionable= scores.count(6)/len(comment)\n",
        "    li.append(questionable)\n",
        "    \n",
        "    list_.append(li)\n",
        "  Player_Score_Neg = pd.DataFrame(list_)\n",
        "  Player_Score_Neg.columns = ['PlayerPoorMove','PlayerBlunder','PlayerQuestionableMoves']\n",
        "  # print(pd.DataFrame(Player_Score_Neg))\n",
        "  return Player_Score_Neg"
      ],
      "execution_count": 0,
      "outputs": []
    },
    {
      "cell_type": "code",
      "metadata": {
        "id": "y3BMVgn2GqR_",
        "colab_type": "code",
        "colab": {}
      },
      "source": [
        "def get_opponent_comments(interested):\n",
        "  ana2=interested[['OpponentComments']]\n",
        "  list_ = []\n",
        "  i=0;\n",
        "  for s in list(ana2['OpponentComments']):\n",
        "    s = [int (x) for x in s]\n",
        "    i+=1;\n",
        "    \n",
        "    li=[]\n",
        "    if len(s)==0: \n",
        "      s.append(-1)\n",
        "    poor=s.count(2)/len(s)\n",
        "    li.append(poor)\n",
        "    blunder = s.count(4)/len(s)\n",
        "    li.append(blunder)\n",
        "    questionable= s.count(6)/len(s)\n",
        "    li.append(questionable)\n",
        "    list_.append(li)\n",
        "  Opponent_Score_Neg = pd.DataFrame(list_)\n",
        "  Opponent_Score_Neg.columns = ['OpponentPoorMove','OpponentBlunder','OpponentQuestionableMoves']\n",
        "  return Opponent_Score_Neg"
      ],
      "execution_count": 0,
      "outputs": []
    },
    {
      "cell_type": "code",
      "metadata": {
        "id": "_OOZrmiz5WUF",
        "colab_type": "code",
        "colab": {}
      },
      "source": [
        "def get_interested_dataset(complete_dataset): \n",
        "  interested_dataset = complete_dataset[['Event', 'BlackElo','WhiteElo','BlackMoves','WhiteMoves','BlackComments','WhiteComments','White_Open_Center', 'White_Mid_Center', 'White_End_Center', 'Black_Open_Center', 'Black_Mid_Center', 'Black_End_Center','White_Open_Diag', 'White_Mid_Diag', 'White_End_Diag', 'White_Open_Pins', 'White_Mid_Pins', 'White_End_Pins', 'Black_Open_Pins' ,'Black_Mid_Pins', 'Black_End_Pins', 'Black_Open_Diag', 'Black_Mid_Diag', 'Black_End_Diag', 'WhiteGains', 'BlackGains','ECO','ECO_Labels','IsWhiteOpeningMove']]\n",
        "  white_interested_dataset=interested_dataset[['Event','WhiteElo','BlackElo','WhiteMoves','BlackMoves','WhiteComments','BlackComments','White_Open_Center', 'White_Mid_Center', 'White_End_Center', 'Black_Open_Center', 'Black_Mid_Center', 'Black_End_Center','White_Open_Pins', 'White_Mid_Pins', 'White_End_Pins' ,'White_Open_Diag', 'White_Mid_Diag', 'White_End_Diag','Black_Open_Pins' ,'Black_Mid_Pins', 'Black_End_Pins', 'Black_Open_Diag', 'Black_Mid_Diag', 'Black_End_Diag', 'WhiteGains','BlackGains','ECO','ECO_Labels','IsWhiteOpeningMove']]\n",
        "  black_interested_dataset=interested_dataset[['Event','WhiteElo','BlackElo','WhiteMoves','BlackMoves','WhiteComments','BlackComments','White_Open_Center', 'White_Mid_Center', 'White_End_Center', 'Black_Open_Center', 'Black_Mid_Center', 'Black_End_Center','Black_Open_Pins' ,'Black_Mid_Pins', 'Black_End_Pins', 'Black_Open_Diag', 'Black_Mid_Diag', 'Black_End_Diag', 'White_Open_Pins', 'White_Mid_Pins', 'White_End_Pins' ,'White_Open_Diag', 'White_Mid_Diag', 'White_End_Diag','BlackGains','WhiteGains','ECO','ECO_Labels','IsWhiteOpeningMove']]\n",
        "  white_interested_dataset.columns = ['Event','PlayerElo','OpponentElo','PlayerMoves','OpponentMoves','PlayerComments','OpponentComments','Player_Open_Center', 'Player_Mid_Center', 'Player_End_Center', 'Opponent_Open_Center', 'Opponent_Mid_Center', 'Opponent_End_Center','Player_Open_Pins', 'Player_Mid_Pins', 'Player_End_Pins','Player_Open_Diag', 'Player_Mid_Diag', 'Player_End_Diag', 'Opponent_Open_Pins' ,'Opponent_Mid_Pins', 'Opponent_End_Pins', 'Opponent_Open_Diag', 'Opponent_Mid_Diag', 'Opponent_End_Diag','PlayerGains','OpponentGains','ECO','ECO_Labels','IsWhiteOpeningMove']\n",
        "  black_interested_dataset.columns = ['Event','OpponentElo','PlayerElo','OpponentMoves','PlayerMoves','OpponentComments','PlayerComments','Opponent_Open_Center', 'Opponent_Mid_Center', 'Opponent_End_Center', 'Player_Open_Center', 'Player_Mid_Center', 'Player_End_Center', 'Player_Open_Pins', 'Player_Mid_Pins', 'Player_End_Pins','Player_Open_Diag', 'Player_Mid_Diag', 'Player_End_Diag','Opponent_Open_Pins', 'Opponent_Mid_Pins', 'Opponent_End_Pins', 'Opponent_Open_Diag', 'Opponent_Mid_Diag', 'Opponent_End_Diag','PlayerGains','OpponentGains','ECO','ECO_Labels','IsWhiteOpeningMove']\n",
        "  white_interested_dataset['isWhite']=1\n",
        "  black_interested_dataset['isWhite']=0\n",
        "  log(\"Added feature: isWhite.\")\n",
        "  white_interested_dataset_copy_final = white_interested_dataset.copy()\n",
        "  black_interested_dataset_copy_final = black_interested_dataset.copy()\n",
        "  interested = white_interested_dataset.append(black_interested_dataset)\n",
        "  Score = get_player_scores(interested)\n",
        "  log(\"Extracted Feature: Player Scores.\")\n",
        "  Score_opp = get_opponent_scores(interested)\n",
        "  log(\"Extracted Feature: Oppoenent Scores.\")\n",
        "  interested = interested.reset_index(drop=True)\n",
        "  Player_Score_Neg = get_player_comments(interested)\n",
        "  log(\"Extracted Feature: Player Comments.\")\n",
        "  Opponent_Score_Neg = get_opponent_comments(interested)\n",
        "  log(\"Extracted Feature: Opponent Comments.\")\n",
        "\n",
        "\n",
        "  interested['Diff']=interested['PlayerGains']\n",
        "  interested.loc[:, 'Diff'] = interested.apply(get_d_score, axis=1)\n",
        "\n",
        "  interested['PlayerGainsMean'] = interested['PlayerGains'].map(lambda x: np.mean(x))\n",
        "  interested['OpponentGainsMean'] = interested['OpponentGains'].map(lambda x: np.mean(x))\n",
        "  \n",
        "  \n",
        "  interested['OpponentCaptures']= Score_opp['OpponentCaptures']\n",
        "  interested['OpponentChecks']= Score_opp['OpponentChecks']\n",
        "  interested['OpponentCheckMate']= Score_opp['OpponentCheckMate']\n",
        "  interested['OpponentCastling']=Score_opp['OpponentCastling']\n",
        "  interested['OpponentPromoteQueen']=Score_opp['OpponentPromoteQueen']\n",
        "  interested['OpponentPromote']=Score_opp['OpponentPromote']\n",
        "  interested['PlayerCaptures']= Score['PlayerCaptures']\n",
        "  interested['PlayerChecks']= Score['PlayerChecks']\n",
        "  interested['PlayerCheckMate']= Score['PlayerCheckMate']\n",
        "  interested['PlayerCastling']=Score['PlayerCastling']\n",
        "  interested['PlayerPromoteQueen']=Score['PlayerPromoteQueen']\n",
        "  interested['PlayerPromote']=Score['PlayerPromote']\n",
        "  interested_with_score_of_player_and_opponent_minus_negative_scores=interested.copy()\n",
        "  interested['OpponentCaptures']=-1* interested['OpponentCaptures']\n",
        "  interested['OpponentChecks'] = -1 * interested['OpponentChecks']\n",
        "  interested['PlayerPoorMove']=-1*Player_Score_Neg['PlayerPoorMove']\n",
        "  interested['PlayerBlunder']=-1*Player_Score_Neg['PlayerBlunder']\n",
        "  interested['PlayerQuestionableMoves']=-1*Player_Score_Neg['PlayerQuestionableMoves']\n",
        "  interested['OpponentPoorMove']=Opponent_Score_Neg['OpponentPoorMove']\n",
        "  interested['OpponentBlunder']=Opponent_Score_Neg['OpponentBlunder']\n",
        "  interested['OpponentQuestionableMoves']=Opponent_Score_Neg['OpponentQuestionableMoves']\n",
        "\n",
        "  log(\"Columns adjusted for above features.\")\n",
        "  result =  complete_dataset['Result'].str.split('-', n = 1, expand = True)\n",
        "  result_for_interested_white=pd.DataFrame()\n",
        "  result_for_interested_black=pd.DataFrame()\n",
        "  result_for_interested_white['Result']=result[0]\n",
        "  result_for_interested_black['Result']=result[1]\n",
        "  result_for_interested=result_for_interested_white.append(result_for_interested_black)\n",
        "  interested['Result']=result_for_interested['Result'].reset_index(drop=True)\n",
        "\n",
        "  log(\"Extracted Feature: Results.\")\n",
        "  log(\"Feature Extraction Complete!\",1)\n",
        "\n",
        "  x=interested['OpponentElo']\n",
        "  indexNames=x[x=='?'].index\n",
        "  interested.drop(indexNames , inplace=True)\n",
        "  x=interested['PlayerElo']\n",
        "  indexNames=x[x=='?'].index\n",
        "  interested.drop(indexNames , inplace=True)\n",
        "  log(\"Columns for interested means\")\n",
        "  log(interested.columns)\n",
        "  return interested\n"
      ],
      "execution_count": 0,
      "outputs": []
    },
    {
      "cell_type": "code",
      "metadata": {
        "id": "o-FHSIiXDdqO",
        "colab_type": "code",
        "colab": {}
      },
      "source": [
        "def get_gains(engine_evals):\n",
        "  \n",
        "  moves =engine_evals\n",
        "  gains = [(moves[j+1] - moves[j]) if j%2 == 1 else -(moves[j+1] - moves[j]) for j in range(len(moves) - 1)]\n",
        "  gains.insert(0, moves[0])\n",
        "  return gains"
      ],
      "execution_count": 0,
      "outputs": []
    },
    {
      "cell_type": "code",
      "metadata": {
        "id": "-Lr3andh4UnV",
        "colab_type": "code",
        "colab": {}
      },
      "source": [
        "import math\n",
        "from scipy.stats import norm\n",
        "\n",
        "def get_diff(moves):\n",
        "  gains=[]\n",
        "  for j in range(len(moves)-1):    \n",
        "    diff= moves[j+1]-moves[j]\n",
        "    gains.append(diff)\n",
        "    if j%2 ==0:\n",
        "      gains[j]=-1 * gains[j]\n",
        "  print(gains)"
      ],
      "execution_count": 0,
      "outputs": []
    },
    {
      "cell_type": "code",
      "metadata": {
        "id": "6jMU1qtBo8yt",
        "colab_type": "code",
        "outputId": "fb44ab2a-8c92-4fbd-b33d-e0d61b9e4eb7",
        "colab": {
          "base_uri": "https://localhost:8080/",
          "height": 119
        }
      },
      "source": [
        "complete_dataset = init(csv_file='/content/drive/My Drive/Project-Final/PGNParse/Final-Data/data.csv')"
      ],
      "execution_count": 22,
      "outputs": [
        {
          "output_type": "stream",
          "text": [
            "2019-12-07 02:23:11.861152 Completed reading dataset from csv file: /content/drive/My Drive/Project-Final/PGNParse/Final-Data/data.csv\n",
            "2019-12-07 02:23:17.462041 Extracted features: BlackMoves and WhiteMoves\n",
            "2019-12-07 02:25:06.980880 Extracted features: Center Control\n",
            "2019-12-07 02:25:13.780729 Extracted features: Black Comment and White Comments.\n",
            "2019-12-07 02:25:14.164372 Extracted features: IsWhiteOpeningMove\n",
            "2019-12-07 02:25:24.363584 Basic feature extraction complete.\n"
          ],
          "name": "stdout"
        }
      ]
    },
    {
      "cell_type": "code",
      "metadata": {
        "id": "MhDdWe0uqYWq",
        "colab_type": "code",
        "outputId": "8a9fca37-a766-4498-fc17-0e3d24c482f0",
        "colab": {
          "base_uri": "https://localhost:8080/",
          "height": 459
        }
      },
      "source": [
        "interested = get_interested_dataset(complete_dataset)"
      ],
      "execution_count": 57,
      "outputs": [
        {
          "output_type": "stream",
          "text": [
            "2019-12-07 03:00:53.564150 Added feature: isWhite.\n",
            "2019-12-07 03:01:00.428695 Extracted Feature: Player Scores.\n",
            "2019-12-07 03:01:05.830142 Extracted Feature: Oppoenent Scores.\n",
            "2019-12-07 03:01:09.637326 Extracted Feature: Player Comments.\n",
            "2019-12-07 03:01:13.357874 Extracted Feature: Opponent Comments.\n",
            "2019-12-07 03:04:44.400363 Columns adjusted for above features.\n",
            "2019-12-07 03:04:44.617900 Extracted Feature: Results.\n",
            "2019-12-07 03:04:44.618319 Feature Extraction Complete!\n",
            "2019-12-07 03:04:44.906118 Columns for interested means\n",
            "2019-12-07 03:04:44.906281 Index(['ECO', 'ECO_Labels', 'Event', 'IsWhiteOpeningMove', 'OpponentComments',\n",
            "       'OpponentElo', 'OpponentGains', 'OpponentMoves', 'Opponent_End_Center',\n",
            "       'Opponent_End_Diag', 'Opponent_End_Pins', 'Opponent_Mid_Center',\n",
            "       'Opponent_Mid_Diag', 'Opponent_Mid_Pins', 'Opponent_Open_Center',\n",
            "       'Opponent_Open_Diag', 'Opponent_Open_Pins', 'PlayerComments',\n",
            "       'PlayerElo', 'PlayerGains', 'PlayerMoves', 'Player_End_Center',\n",
            "       'Player_End_Diag', 'Player_End_Pins', 'Player_Mid_Center',\n",
            "       'Player_Mid_Diag', 'Player_Mid_Pins', 'Player_Open_Center',\n",
            "       'Player_Open_Diag', 'Player_Open_Pins', 'isWhite', 'Diff',\n",
            "       'PlayerGainsMean', 'OpponentGainsMean', 'OpponentCaptures',\n",
            "       'OpponentChecks', 'OpponentCheckMate', 'OpponentCastling',\n",
            "       'OpponentPromoteQueen', 'OpponentPromote', 'PlayerCaptures',\n",
            "       'PlayerChecks', 'PlayerCheckMate', 'PlayerCastling',\n",
            "       'PlayerPromoteQueen', 'PlayerPromote', 'PlayerPoorMove',\n",
            "       'PlayerBlunder', 'PlayerQuestionableMoves', 'OpponentPoorMove',\n",
            "       'OpponentBlunder', 'OpponentQuestionableMoves', 'Result'],\n",
            "      dtype='object')\n"
          ],
          "name": "stdout"
        }
      ]
    },
    {
      "cell_type": "code",
      "metadata": {
        "id": "qXEpAnJIPDCx",
        "colab_type": "code",
        "colab": {
          "base_uri": "https://localhost:8080/",
          "height": 935
        },
        "outputId": "a891cc93-9d94-40df-bcbe-199888c5d4d2"
      },
      "source": [
        "interested.isna().sum()"
      ],
      "execution_count": 58,
      "outputs": [
        {
          "output_type": "execute_result",
          "data": {
            "text/plain": [
              "ECO                          0\n",
              "ECO_Labels                   0\n",
              "Event                        0\n",
              "IsWhiteOpeningMove           0\n",
              "OpponentComments             0\n",
              "OpponentElo                  0\n",
              "OpponentGains                0\n",
              "OpponentMoves                0\n",
              "Opponent_End_Center          0\n",
              "Opponent_End_Diag            0\n",
              "Opponent_End_Pins            0\n",
              "Opponent_Mid_Center          0\n",
              "Opponent_Mid_Diag            0\n",
              "Opponent_Mid_Pins            0\n",
              "Opponent_Open_Center         0\n",
              "Opponent_Open_Diag           0\n",
              "Opponent_Open_Pins           0\n",
              "PlayerComments               0\n",
              "PlayerElo                    0\n",
              "PlayerGains                  0\n",
              "PlayerMoves                  0\n",
              "Player_End_Center            0\n",
              "Player_End_Diag              0\n",
              "Player_End_Pins              0\n",
              "Player_Mid_Center            0\n",
              "Player_Mid_Diag              0\n",
              "Player_Mid_Pins              0\n",
              "Player_Open_Center           0\n",
              "Player_Open_Diag             0\n",
              "Player_Open_Pins             0\n",
              "isWhite                      0\n",
              "Diff                         0\n",
              "PlayerGainsMean              0\n",
              "OpponentGainsMean            0\n",
              "OpponentCaptures             0\n",
              "OpponentChecks               0\n",
              "OpponentCheckMate            0\n",
              "OpponentCastling             0\n",
              "OpponentPromoteQueen         0\n",
              "OpponentPromote              0\n",
              "PlayerCaptures               0\n",
              "PlayerChecks                 0\n",
              "PlayerCheckMate              0\n",
              "PlayerCastling               0\n",
              "PlayerPromoteQueen           0\n",
              "PlayerPromote                0\n",
              "PlayerPoorMove               0\n",
              "PlayerBlunder                0\n",
              "PlayerQuestionableMoves      0\n",
              "OpponentPoorMove             0\n",
              "OpponentBlunder              0\n",
              "OpponentQuestionableMoves    0\n",
              "Result                       0\n",
              "dtype: int64"
            ]
          },
          "metadata": {
            "tags": []
          },
          "execution_count": 58
        }
      ]
    },
    {
      "cell_type": "code",
      "metadata": {
        "id": "cj4oGuntUXhx",
        "colab_type": "code",
        "colab": {
          "base_uri": "https://localhost:8080/",
          "height": 833
        },
        "outputId": "52b64f41-6782-439e-abcc-4101a35c52c8"
      },
      "source": [
        "interested.Diff.unique()"
      ],
      "execution_count": 59,
      "outputs": [
        {
          "output_type": "execute_result",
          "data": {
            "text/plain": [
              "array([-213.6636351 ,  -41.98357165, -814.06707323,  681.3442071 ,\n",
              "       -488.73363072, -362.47752097, -256.75599613,  282.84271247,\n",
              "         36.97205899,  318.59152224,  -57.10409927, -449.51274668,\n",
              "       -300.52584151,  362.47752097, -554.36152974, -315.93155591,\n",
              "        196.14953915, -606.53091668,  498.48490914, -580.88791262,\n",
              "        172.47505324, -228.0903729 , -395.52063649, -301.77553393,\n",
              "       -285.96369178, -242.1122264 ,  129.1296862 , -101.38745739,\n",
              "       -330.92665454,  -86.40301471, -171.62198968,    4.25404962,\n",
              "       -129.1296862 , -100.6317924 ,  149.95230117, -115.12006025,\n",
              "       -379.22279049, -432.7684669 ,  -11.34674741,   19.86780941,\n",
              "       -199.7725327 , -430.4968591 , -413.24911825, -143.46366746,\n",
              "         71.65738185,  -71.65738185,  222.2504019 ,  495.16879708,\n",
              "       -531.96876573, -157.34779577, -508.8674454 , -186.34744009,\n",
              "       -272.12262123, -669.09784768, -270.99852269, -346.9145404 ,\n",
              "         54.21271789,  221.28628537,   20.5786057 , -638.41255792,\n",
              "       -129.9170431 , -874.04968765,  282.44002099, -467.99944404,\n",
              "        250.39795187,  108.98508589,  -42.70054241,  417.41673746,\n",
              "        171.62198968, -185.46751247,  281.27516513,  -72.38972629,\n",
              "         90.124822  ,   53.49076867, -364.09509776,  -26.98216778,\n",
              "       -710.54171584,   89.37923177, -332.33645139, -243.13650699,\n",
              "         70.19412769, -382.73544832,  -12.05633613, -349.94278999,\n",
              "       -145.07862865,  315.93155591, -470.80947475, -512.4857295 ,\n",
              "       -201.59635834,  277.80887455, -214.60791063, -158.17610366,\n",
              "        148.32286344, -258.90434435,  360.87171361,    2.83597368,\n",
              "        128.34332869,  485.60869846,  -74.58969571,  194.35007698,\n",
              "        413.24911825,  -28.40694593, -750.11861814, -173.32968862,\n",
              "        169.07209546, -417.41673746,  248.30656936, -116.66219033,\n",
              "        -87.8899068 , -397.41425134,   51.32699088,   35.5423962 ,\n",
              "        -44.85312091,  657.99054285,  218.40922326, -318.59152224,\n",
              "        -58.55201191,   17.73615516,  107.45943248, -613.79424871,\n",
              "         32.68575558, -103.65882598, -681.3442071 ,  244.16398614,\n",
              "       -217.45521721, -230.05871528,  149.54447705,  127.950522  ,\n",
              "       -234.02924218,  171.1960431 ,  125.99016673,  493.53594888,\n",
              "         87.14615972, -454.59835336, -246.22867532, -305.56045269,\n",
              "       -559.28424979,   67.27320449,  416.36634136, -288.33767271,\n",
              "        496.81831677,  484.06820674, -160.66922662,  -61.4524867 ,\n",
              "        -14.18557559,  -12.41115867,  310.69378758, -188.99813084,\n",
              "        356.12272826,  669.09784768, -132.28519696, -540.52250619,\n",
              "        249.35055651,  281.85699548,  675.06288951, -275.52101125,\n",
              "        249.87382588,    2.48146722, -657.99054285,  145.07862865,\n",
              "        -42.34202302, -228.58142016, -286.55529455, -495.16879708,\n",
              "        621.48643885, -301.14995285, -347.66786939,  220.32473314,\n",
              "        361.67316008, -369.02075328,  -43.05913042, -593.10064193,\n",
              "        108.60337689,  164.85247286,  405.17295519, -143.86696744,\n",
              "        -72.02349371,  195.6989316 ,   36.61455615,  317.92389363,\n",
              "       -185.90725137, -144.27056013,   20.22319159,    3.899522  ,\n",
              "        -11.70153256,  491.91938518,   71.29139   ,   53.85169942,\n",
              "       -145.88788307, -172.04832583, -272.68628531])"
            ]
          },
          "metadata": {
            "tags": []
          },
          "execution_count": 59
        }
      ]
    },
    {
      "cell_type": "code",
      "metadata": {
        "id": "Q5V62RxQlEf2",
        "colab_type": "code",
        "outputId": "e20804da-550a-4c3a-daf0-5c61b731de3e",
        "colab": {
          "base_uri": "https://localhost:8080/",
          "height": 364
        }
      },
      "source": [
        "plt.scatter(interested.Diff, interested.Result, color='orange')"
      ],
      "execution_count": 60,
      "outputs": [
        {
          "output_type": "execute_result",
          "data": {
            "text/plain": [
              "<matplotlib.collections.PathCollection at 0x7fcddd41c828>"
            ]
          },
          "metadata": {
            "tags": []
          },
          "execution_count": 60
        },
        {
          "output_type": "display_data",
          "data": {
            "image/png": "[encoded data removed]",
            "text/plain": [
              "<Figure size 576x396 with 1 Axes>"
            ]
          },
          "metadata": {
            "tags": []
          }
        }
      ]
    },
    {
      "cell_type": "code",
      "metadata": {
        "id": "JGcCQIup8Z-E",
        "colab_type": "code",
        "colab": {}
      },
      "source": [
        "def get_train_dataset(interested):\n",
        "  train=pd.DataFrame()\n",
        "  columns = ['Event', 'OpponentBlunder', 'OpponentCaptures', 'OpponentCaptures', 'OpponentCastling', 'OpponentCheckMate', \n",
        "             'OpponentChecks', 'OpponentElo', 'OpponentPoorMove', 'OpponentPromote', 'OpponentPromoteQueen', 'OpponentQuestionableMoves', \n",
        "             'Opponent_End_Center', 'Opponent_Mid_Center', 'Opponent_Open_Center', 'PlayerBlunder', 'PlayerCaptures', 'PlayerCastling',\n",
        "             'PlayerCheckMate', 'PlayerChecks', 'PlayerMoves', 'Player_Open_Diag', 'Player_Mid_Diag', 'Player_End_Diag', 'Player_Open_Pins', 'Player_Mid_Pins', 'Player_End_Pins',\n",
        "             'Opponent_Open_Pins', 'Opponent_Mid_Pins', 'Opponent_End_Pins', 'Opponent_Open_Diag', 'Opponent_Mid_Diag', 'Opponent_End_Diag',\n",
        "             'PlayerPoorMove', 'PlayerPromote', 'PlayerPromoteQueen', 'PlayerQuestionableMoves', 'Player_End_Center', 'Player_Mid_Center', \n",
        "             'Player_Open_Center', 'Result', 'isWhite','Diff', 'PlayerGainsMean', 'OpponentGainsMean','IsWhiteOpeningMove','ECO','ECO_Labels'] \n",
        "  for col in columns:\n",
        "    train[col]=interested[col]\n",
        "  train\t['Moves'] = interested\t['PlayerMoves']\n",
        "  applyFunctionOverArrayInColumn(train, 'Moves', 'Q_Moves', lambda x: [index+1 for index, y in enumerate(x) if y.startswith('Q')], True)\n",
        "  applyFunctionOverArrayInColumn(train, 'Moves', 'B_Moves', lambda x: [index+1 for index, y in enumerate(x) if y.startswith('B')], True)\n",
        "  applyFunctionOverArrayInColumn(train, 'Moves', 'N_Moves', lambda x: [index+1 for index, y in enumerate(x) if y.startswith('N')], True)\n",
        "  applyFunctionOverArrayInColumn(train, 'Moves', 'R_Moves', lambda x: [index+1 for index, y in enumerate(x) if y.startswith('R')], True)\n",
        "  applyFunctionOverArrayInColumn(train, 'Moves', 'K_Moves', lambda x: [index+1 for index, y in enumerate(x) if y.startswith('K')], True)\n",
        "\n",
        "  applyFunctionOverArrayInColumn(train, 'Q_Moves', 'Q_Moves_Num', lambda x: len(x), False)\n",
        "  applyFunctionOverArrayInColumn(train, 'B_Moves', 'B_Moves_Num', lambda x: len(x), False)\n",
        "  applyFunctionOverArrayInColumn(train, 'N_Moves', 'N_Moves_Num', lambda x: len(x), False)\n",
        "  applyFunctionOverArrayInColumn(train, 'R_Moves', 'R_Moves_Num', lambda x: len(x), False)\n",
        "  applyFunctionOverArrayInColumn(train, 'K_Moves', 'K_Moves_Num', lambda x: len(x), False)\n",
        "  applyFunctionOverArrayInColumn(train, 'Moves', 'Total_Moves', lambda x: len(x), True)\n",
        "\n",
        "  applyFunctionOverArrayInColumn(train, 'Q_Moves', 'Q_Moves_First', lambda x: x[0] if len(x) > 0 else -1, False)\n",
        "  applyFunctionOverArrayInColumn(train, 'B_Moves', 'B_Moves_First', lambda x: x[0] if len(x) > 0 else -1, False)\n",
        "  applyFunctionOverArrayInColumn(train, 'N_Moves', 'N_Moves_First', lambda x: x[0] if len(x) > 0 else -1, False)\n",
        "  applyFunctionOverArrayInColumn(train, 'R_Moves', 'R_Moves_First', lambda x: x[0] if len(x) > 0 else -1, False)\n",
        "  applyFunctionOverArrayInColumn(train, 'K_Moves', 'K_Moves_First', lambda x: x[0] if len(x) > 0 else -1, False)\n",
        "\n",
        "  train.drop('Moves', axis=1, inplace=True, errors='ignore')\n",
        "  train.drop('Q_Moves', axis=1, inplace=True, errors='ignore')\n",
        "  train.drop('B_Moves', axis=1, inplace=True, errors='ignore')\n",
        "  train.drop('N_Moves', axis=1, inplace=True, errors='ignore')\n",
        "  train.drop('R_Moves', axis=1, inplace=True, errors='ignore')\n",
        "  train.drop('K_Moves', axis=1, inplace=True, errors='ignore')\n",
        "  train['Result']=train['Result'].replace('1/2',0.5)\n",
        "  train['Result']=train['Result'].replace('*',0.5)\n",
        "  train['Result'].fillna(0.5, inplace=True)\n",
        "  train['Result'] = train['Result'].astype(float)\n",
        "\n",
        "  return train;"
      ],
      "execution_count": 0,
      "outputs": []
    },
    {
      "cell_type": "code",
      "metadata": {
        "id": "7IAoP-Rp922x",
        "colab_type": "code",
        "colab": {}
      },
      "source": [
        "train = get_train_dataset(interested)"
      ],
      "execution_count": 0,
      "outputs": []
    },
    {
      "cell_type": "code",
      "metadata": {
        "id": "nB5HVweDL-X0",
        "colab_type": "code",
        "colab": {}
      },
      "source": [
        "def printMetrics(y_test, y_pred, message='Printing metric'):\n",
        "  # regression coefficients \n",
        "  # print('Coefficients: \\n', reg.coef_) \n",
        "  print(\"===============================================================================\")\n",
        "  print(message)\n",
        "  print('Mean Absolute Error:', metrics.mean_absolute_error(y_test, y_pred))  \n",
        "  print('Mean Squared Error:', metrics.mean_squared_error(y_test, y_pred))  \n",
        "  print('Root Mean Squared Error:', np.sqrt(metrics.mean_squared_error(y_test, y_pred)))\n",
        "  print('R2 Score', sklearn.metrics.r2_score(y_test, y_pred))\n",
        "  print(\"===============================================================================\")\n",
        "  \n",
        "def perform_LinearRegression(train, interested,baseline=False):\n",
        "  log(\"Expected time of completion: \" + str(((0.328273)/199404)*train.shape[0]) + \" seconds\")\n",
        "  start = datetime.now()\n",
        "  if not baseline:\n",
        "    train=train.drop('Event', axis=1)\n",
        "    train=train.drop('OpponentElo', axis=1)\n",
        "    train=train.drop('PlayerMoves', axis=1)\n",
        "    train=train.drop('ECO', axis=1)\n",
        "  \n",
        "  print(train.columns)\n",
        "  X_train, X_test, y_train, y_test = train_test_split(train, interested['PlayerElo'], test_size=0.2,random_state=1) \n",
        "  reg = LinearRegression() \n",
        "  \n",
        "  # train the model using the training sets \n",
        "  reg.fit(X_train, y_train)\n",
        "  y_pred = reg.predict(X_test) \n",
        "  end = datetime.now()\n",
        "  log(\"Time taken: \" + str((end-start).microseconds/1000000) + \"seconds for train shape:\" + str(train.shape))\n",
        "  \n",
        "  printMetrics(y_test, y_pred, \"Metrics for Linear Regression\")\n",
        "  return reg;\n",
        "  \n",
        "def perform_RandomForestRegressor(train, interested, baseline=False):\n",
        "  start = datetime.now()\n",
        "  log(\"Expected time of completion: \" + str(((280)/199404)*train.shape[0]) + \" seconds\")\n",
        "  if not baseline:\n",
        "    train=train.drop('Event', axis=1)\n",
        "    train=train.drop('OpponentElo', axis=1)\n",
        "    train=train.drop('PlayerMoves', axis=1)\n",
        "    train=train.drop('ECO', axis=1)\n",
        "  \n",
        "  \n",
        "  print(train.columns)\n",
        "  X_train, X_test, y_train, y_test = train_test_split(train, interested['PlayerElo'], test_size=0.2,random_state=1) \n",
        "  clf = RandomForestRegressor(n_estimators = 100, random_state = 0) \n",
        "  clf.fit(X_train, y_train)\n",
        "  y_pred = clf.predict(X_test) \n",
        "  end = datetime.now()\n",
        "  log(\"Time taken: \" + str((end-start).seconds) + \"seconds for train shape:\" + str(train.shape))\n",
        "  printMetrics(y_test, y_pred, \"Metrics for Random Forest Regressor\")\n",
        "  return clf;\n",
        "\n",
        "def perform_XBGBoostRegressor(train, interested,baseline=False):\n",
        "  if not baseline:\n",
        "    train=train.drop('Event', axis=1)\n",
        "    train=train.drop('OpponentElo', axis=1)\n",
        "    train=train.drop('PlayerMoves', axis=1)\n",
        "    train=train.drop('ECO', axis=1)\n",
        "  \n",
        "  print(train.columns)\n",
        "  X_train, X_test, y_train, y_test = train_test_split(train, interested['PlayerElo'].to_numpy(), test_size=0.2,random_state=1) \n",
        "  reg = XGBRegressor()\n",
        "  reg.fit(X_train, y_train)\n",
        "  y_pred = reg.predict(X_test) \n",
        "  printMetrics(y_test, y_pred, \"Metrics for XGBoost\")\n",
        "  return reg"
      ],
      "execution_count": 0,
      "outputs": []
    },
    {
      "cell_type": "code",
      "metadata": {
        "id": "k0sZiFRnM3WM",
        "colab_type": "code",
        "colab": {
          "base_uri": "https://localhost:8080/",
          "height": 323
        },
        "outputId": "a57c88af-fe1c-466e-df5f-b883bb5ed031"
      },
      "source": [
        "train.columns"
      ],
      "execution_count": 65,
      "outputs": [
        {
          "output_type": "execute_result",
          "data": {
            "text/plain": [
              "Index(['Event', 'OpponentBlunder', 'OpponentCaptures', 'OpponentCastling',\n",
              "       'OpponentCheckMate', 'OpponentChecks', 'OpponentElo',\n",
              "       'OpponentPoorMove', 'OpponentPromote', 'OpponentPromoteQueen',\n",
              "       'OpponentQuestionableMoves', 'Opponent_End_Center',\n",
              "       'Opponent_Mid_Center', 'Opponent_Open_Center', 'PlayerBlunder',\n",
              "       'PlayerCaptures', 'PlayerCastling', 'PlayerCheckMate', 'PlayerChecks',\n",
              "       'PlayerMoves', 'Player_Open_Diag', 'Player_Mid_Diag', 'Player_End_Diag',\n",
              "       'Player_Open_Pins', 'Player_Mid_Pins', 'Player_End_Pins',\n",
              "       'Opponent_Open_Pins', 'Opponent_Mid_Pins', 'Opponent_End_Pins',\n",
              "       'Opponent_Open_Diag', 'Opponent_Mid_Diag', 'Opponent_End_Diag',\n",
              "       'PlayerPoorMove', 'PlayerPromote', 'PlayerPromoteQueen',\n",
              "       'PlayerQuestionableMoves', 'Player_End_Center', 'Player_Mid_Center',\n",
              "       'Player_Open_Center', 'Result', 'isWhite', 'Diff', 'PlayerGainsMean',\n",
              "       'OpponentGainsMean', 'IsWhiteOpeningMove', 'ECO', 'ECO_Labels',\n",
              "       'Q_Moves_Num', 'B_Moves_Num', 'N_Moves_Num', 'R_Moves_Num',\n",
              "       'K_Moves_Num', 'Total_Moves', 'Q_Moves_First', 'B_Moves_First',\n",
              "       'N_Moves_First', 'R_Moves_First', 'K_Moves_First'],\n",
              "      dtype='object')"
            ]
          },
          "metadata": {
            "tags": []
          },
          "execution_count": 65
        }
      ]
    },
    {
      "cell_type": "code",
      "metadata": {
        "id": "BNLO8r_hV1HG",
        "colab_type": "code",
        "colab": {}
      },
      "source": [
        "baseline_columns = ['OpponentBlunder', 'OpponentPoorMove', 'OpponentQuestionableMoves', 'PlayerBlunder',  'PlayerPoorMove', 'PlayerQuestionableMoves', 'Result', 'isWhite', 'Total_Moves']\n",
        "train_baseline = train[baseline_columns]\n"
      ],
      "execution_count": 0,
      "outputs": []
    },
    {
      "cell_type": "code",
      "metadata": {
        "id": "9489rCJcWkxu",
        "colab_type": "code",
        "colab": {
          "base_uri": "https://localhost:8080/",
          "height": 663
        },
        "outputId": "81ded3a5-efc7-4797-dbc9-50b3423cedda"
      },
      "source": [
        "linear_regression_model = perform_LinearRegression(train_baseline, interested,baseline=True)\n",
        "random_forest_regressor_model = perform_RandomForestRegressor(train_baseline, interested,baseline=True)\n",
        "xgboost_regressor_model = perform_XBGBoostRegressor(train_baseline,interested,baseline=True)"
      ],
      "execution_count": 78,
      "outputs": [
        {
          "output_type": "stream",
          "text": [
            "2019-12-07 03:23:03.242979 Expected time of completion: 0.4072742473370644 seconds\n",
            "Index(['OpponentBlunder', 'OpponentPoorMove', 'OpponentQuestionableMoves',\n",
            "       'PlayerBlunder', 'PlayerPoorMove', 'PlayerQuestionableMoves', 'Result',\n",
            "       'isWhite', 'Total_Moves'],\n",
            "      dtype='object')\n",
            "2019-12-07 03:23:03.364531 Time taken: 0.121096seconds for train shape:(247392, 9)\n",
            "===============================================================================\n",
            "Metrics for Linear Regression\n",
            "Mean Absolute Error: 163.44714156458838\n",
            "Mean Squared Error: 42059.60940639524\n",
            "Root Mean Squared Error: 205.08439581400444\n",
            "R2 Score 0.053131748594833494\n",
            "===============================================================================\n",
            "2019-12-07 03:23:03.442293 Expected time of completion: 347.38400433291207 seconds\n",
            "Index(['OpponentBlunder', 'OpponentPoorMove', 'OpponentQuestionableMoves',\n",
            "       'PlayerBlunder', 'PlayerPoorMove', 'PlayerQuestionableMoves', 'Result',\n",
            "       'isWhite', 'Total_Moves'],\n",
            "      dtype='object')\n",
            "2019-12-07 03:23:16.616763 Time taken: 13seconds for train shape:(247392, 9)\n",
            "===============================================================================\n",
            "Metrics for Random Forest Regressor\n",
            "Mean Absolute Error: 163.2428836528277\n",
            "Mean Squared Error: 41868.530508220545\n",
            "Root Mean Squared Error: 204.6180112018992\n",
            "R2 Score 0.057433418171622175\n",
            "===============================================================================\n",
            "Index(['OpponentBlunder', 'OpponentPoorMove', 'OpponentQuestionableMoves',\n",
            "       'PlayerBlunder', 'PlayerPoorMove', 'PlayerQuestionableMoves', 'Result',\n",
            "       'isWhite', 'Total_Moves'],\n",
            "      dtype='object')\n",
            "[03:23:16] WARNING: /workspace/src/objective/regression_obj.cu:152: reg:linear is now deprecated in favor of reg:squarederror.\n",
            "===============================================================================\n",
            "Metrics for XGBoost\n",
            "Mean Absolute Error: 163.08469766440925\n",
            "Mean Squared Error: 41803.184527125006\n",
            "Root Mean Squared Error: 204.45827086993816\n",
            "R2 Score 0.05890452158246062\n",
            "===============================================================================\n"
          ],
          "name": "stdout"
        }
      ]
    },
    {
      "cell_type": "code",
      "metadata": {
        "id": "G7TJ3EFlZKgw",
        "colab_type": "code",
        "outputId": "795008ca-4b93-440e-b765-80c8cfc43fe1",
        "colab": {
          "base_uri": "https://localhost:8080/",
          "height": 1000
        }
      },
      "source": [
        "linear_regression_model = perform_LinearRegression(train, interested)\n",
        "random_forest_regressor_model = perform_RandomForestRegressor(train, interested)\n",
        "xgboost_regressor_model = perform_XBGBoostRegressor(train,interested)"
      ],
      "execution_count": 66,
      "outputs": [
        {
          "output_type": "stream",
          "text": [
            "2019-12-07 03:06:37.613188 Expected time of completion: 0.4072742473370644 seconds\n",
            "Index(['OpponentBlunder', 'OpponentCaptures', 'OpponentCastling',\n",
            "       'OpponentCheckMate', 'OpponentChecks', 'OpponentPoorMove',\n",
            "       'OpponentPromote', 'OpponentPromoteQueen', 'OpponentQuestionableMoves',\n",
            "       'Opponent_End_Center', 'Opponent_Mid_Center', 'Opponent_Open_Center',\n",
            "       'PlayerBlunder', 'PlayerCaptures', 'PlayerCastling', 'PlayerCheckMate',\n",
            "       'PlayerChecks', 'Player_Open_Diag', 'Player_Mid_Diag',\n",
            "       'Player_End_Diag', 'Player_Open_Pins', 'Player_Mid_Pins',\n",
            "       'Player_End_Pins', 'Opponent_Open_Pins', 'Opponent_Mid_Pins',\n",
            "       'Opponent_End_Pins', 'Opponent_Open_Diag', 'Opponent_Mid_Diag',\n",
            "       'Opponent_End_Diag', 'PlayerPoorMove', 'PlayerPromote',\n",
            "       'PlayerPromoteQueen', 'PlayerQuestionableMoves', 'Player_End_Center',\n",
            "       'Player_Mid_Center', 'Player_Open_Center', 'Result', 'isWhite', 'Diff',\n",
            "       'PlayerGainsMean', 'OpponentGainsMean', 'IsWhiteOpeningMove',\n",
            "       'ECO_Labels', 'Q_Moves_Num', 'B_Moves_Num', 'N_Moves_Num',\n",
            "       'R_Moves_Num', 'K_Moves_Num', 'Total_Moves', 'Q_Moves_First',\n",
            "       'B_Moves_First', 'N_Moves_First', 'R_Moves_First', 'K_Moves_First'],\n",
            "      dtype='object')\n",
            "2019-12-07 03:06:38.448337 Time taken: 0.83414seconds for train shape:(247392, 54)\n",
            "===============================================================================\n",
            "Metrics for Linear Regression\n",
            "Mean Absolute Error: 152.74023538507288\n",
            "Mean Squared Error: 36912.718809245016\n",
            "Root Mean Squared Error: 192.12683000883823\n",
            "R2 Score 0.16900128159045635\n",
            "===============================================================================\n",
            "2019-12-07 03:06:38.533112 Expected time of completion: 347.38400433291207 seconds\n",
            "Index(['OpponentBlunder', 'OpponentCaptures', 'OpponentCastling',\n",
            "       'OpponentCheckMate', 'OpponentChecks', 'OpponentPoorMove',\n",
            "       'OpponentPromote', 'OpponentPromoteQueen', 'OpponentQuestionableMoves',\n",
            "       'Opponent_End_Center', 'Opponent_Mid_Center', 'Opponent_Open_Center',\n",
            "       'PlayerBlunder', 'PlayerCaptures', 'PlayerCastling', 'PlayerCheckMate',\n",
            "       'PlayerChecks', 'Player_Open_Diag', 'Player_Mid_Diag',\n",
            "       'Player_End_Diag', 'Player_Open_Pins', 'Player_Mid_Pins',\n",
            "       'Player_End_Pins', 'Opponent_Open_Pins', 'Opponent_Mid_Pins',\n",
            "       'Opponent_End_Pins', 'Opponent_Open_Diag', 'Opponent_Mid_Diag',\n",
            "       'Opponent_End_Diag', 'PlayerPoorMove', 'PlayerPromote',\n",
            "       'PlayerPromoteQueen', 'PlayerQuestionableMoves', 'Player_End_Center',\n",
            "       'Player_Mid_Center', 'Player_Open_Center', 'Result', 'isWhite', 'Diff',\n",
            "       'PlayerGainsMean', 'OpponentGainsMean', 'IsWhiteOpeningMove',\n",
            "       'ECO_Labels', 'Q_Moves_Num', 'B_Moves_Num', 'N_Moves_Num',\n",
            "       'R_Moves_Num', 'K_Moves_Num', 'Total_Moves', 'Q_Moves_First',\n",
            "       'B_Moves_First', 'N_Moves_First', 'R_Moves_First', 'K_Moves_First'],\n",
            "      dtype='object')\n",
            "2019-12-07 03:14:58.239867 Time taken: 499seconds for train shape:(247392, 54)\n",
            "===============================================================================\n",
            "Metrics for Random Forest Regressor\n",
            "Mean Absolute Error: 147.37040443709162\n",
            "Mean Squared Error: 34528.60588871781\n",
            "Root Mean Squared Error: 185.81874471838896\n",
            "R2 Score 0.22267369709959361\n",
            "===============================================================================\n",
            "Index(['OpponentBlunder', 'OpponentCaptures', 'OpponentCastling',\n",
            "       'OpponentCheckMate', 'OpponentChecks', 'OpponentPoorMove',\n",
            "       'OpponentPromote', 'OpponentPromoteQueen', 'OpponentQuestionableMoves',\n",
            "       'Opponent_End_Center', 'Opponent_Mid_Center', 'Opponent_Open_Center',\n",
            "       'PlayerBlunder', 'PlayerCaptures', 'PlayerCastling', 'PlayerCheckMate',\n",
            "       'PlayerChecks', 'Player_Open_Diag', 'Player_Mid_Diag',\n",
            "       'Player_End_Diag', 'Player_Open_Pins', 'Player_Mid_Pins',\n",
            "       'Player_End_Pins', 'Opponent_Open_Pins', 'Opponent_Mid_Pins',\n",
            "       'Opponent_End_Pins', 'Opponent_Open_Diag', 'Opponent_Mid_Diag',\n",
            "       'Opponent_End_Diag', 'PlayerPoorMove', 'PlayerPromote',\n",
            "       'PlayerPromoteQueen', 'PlayerQuestionableMoves', 'Player_End_Center',\n",
            "       'Player_Mid_Center', 'Player_Open_Center', 'Result', 'isWhite', 'Diff',\n",
            "       'PlayerGainsMean', 'OpponentGainsMean', 'IsWhiteOpeningMove',\n",
            "       'ECO_Labels', 'Q_Moves_Num', 'B_Moves_Num', 'N_Moves_Num',\n",
            "       'R_Moves_Num', 'K_Moves_Num', 'Total_Moves', 'Q_Moves_First',\n",
            "       'B_Moves_First', 'N_Moves_First', 'R_Moves_First', 'K_Moves_First'],\n",
            "      dtype='object')\n",
            "[03:14:58] WARNING: /workspace/src/objective/regression_obj.cu:152: reg:linear is now deprecated in favor of reg:squarederror.\n",
            "===============================================================================\n",
            "Metrics for XGBoost\n",
            "Mean Absolute Error: 148.8395777088078\n",
            "Mean Squared Error: 35182.08225745927\n",
            "Root Mean Squared Error: 187.5688733704483\n",
            "R2 Score 0.20796229023353896\n",
            "===============================================================================\n"
          ],
          "name": "stdout"
        }
      ]
    },
    {
      "cell_type": "code",
      "metadata": {
        "id": "Pqc-pkxdW1Ll",
        "colab_type": "code",
        "colab": {
          "base_uri": "https://localhost:8080/",
          "height": 493
        },
        "outputId": "1b0a40a2-d51c-4d65-e59a-89169e76e659"
      },
      "source": [
        "print(\"Train Shape(Baseline): \", train_baseline.shape)\n",
        "print()\n",
        "print(\"Features in Baseline: \", train_baseline.columns)\n",
        "print()\n",
        "print(\"Train Shape(Feature Engineered): \", train.shape)\n",
        "print()\n",
        "print(\"Features Engineered: \", train.columns)"
      ],
      "execution_count": 69,
      "outputs": [
        {
          "output_type": "stream",
          "text": [
            "Train Shape(Baseline):  (247392, 13)\n",
            "\n",
            "Features in Baseline:  Index(['OpponentBlunder', 'OpponentCheckMate', 'OpponentChecks',\n",
            "       'OpponentPoorMove', 'OpponentQuestionableMoves', 'PlayerBlunder',\n",
            "       'PlayerCheckMate', 'PlayerChecks', 'PlayerPoorMove',\n",
            "       'PlayerQuestionableMoves', 'Result', 'isWhite', 'Total_Moves'],\n",
            "      dtype='object')\n",
            "\n",
            "Train Shape(Feature Engineered):  (247392, 58)\n",
            "\n",
            "Features Engineered:  Index(['Event', 'OpponentBlunder', 'OpponentCaptures', 'OpponentCastling',\n",
            "       'OpponentCheckMate', 'OpponentChecks', 'OpponentElo',\n",
            "       'OpponentPoorMove', 'OpponentPromote', 'OpponentPromoteQueen',\n",
            "       'OpponentQuestionableMoves', 'Opponent_End_Center',\n",
            "       'Opponent_Mid_Center', 'Opponent_Open_Center', 'PlayerBlunder',\n",
            "       'PlayerCaptures', 'PlayerCastling', 'PlayerCheckMate', 'PlayerChecks',\n",
            "       'PlayerMoves', 'Player_Open_Diag', 'Player_Mid_Diag', 'Player_End_Diag',\n",
            "       'Player_Open_Pins', 'Player_Mid_Pins', 'Player_End_Pins',\n",
            "       'Opponent_Open_Pins', 'Opponent_Mid_Pins', 'Opponent_End_Pins',\n",
            "       'Opponent_Open_Diag', 'Opponent_Mid_Diag', 'Opponent_End_Diag',\n",
            "       'PlayerPoorMove', 'PlayerPromote', 'PlayerPromoteQueen',\n",
            "       'PlayerQuestionableMoves', 'Player_End_Center', 'Player_Mid_Center',\n",
            "       'Player_Open_Center', 'Result', 'isWhite', 'Diff', 'PlayerGainsMean',\n",
            "       'OpponentGainsMean', 'IsWhiteOpeningMove', 'ECO', 'ECO_Labels',\n",
            "       'Q_Moves_Num', 'B_Moves_Num', 'N_Moves_Num', 'R_Moves_Num',\n",
            "       'K_Moves_Num', 'Total_Moves', 'Q_Moves_First', 'B_Moves_First',\n",
            "       'N_Moves_First', 'R_Moves_First', 'K_Moves_First'],\n",
            "      dtype='object')\n"
          ],
          "name": "stdout"
        }
      ]
    },
    {
      "cell_type": "code",
      "metadata": {
        "id": "074JgwygZifr",
        "colab_type": "code",
        "colab": {}
      },
      "source": [
        "player_gains_len = []\n",
        "interested['PlayerGains'].map(lambda x : player_gains_len.append(len(x)))\n",
        "interested['PlayerGainsLen'] = player_gains_len"
      ],
      "execution_count": 0,
      "outputs": []
    },
    {
      "cell_type": "code",
      "metadata": {
        "id": "Te1lBjtoRBLO",
        "colab_type": "code",
        "outputId": "ec45933e-a574-4b30-f7d4-7066307466ed",
        "colab": {
          "base_uri": "https://localhost:8080/",
          "height": 221
        }
      },
      "source": [
        "interested['PlayerGains']"
      ],
      "execution_count": 0,
      "outputs": [
        {
          "output_type": "execute_result",
          "data": {
            "text/plain": [
              "0         [89, 94, 192, 380, 382, 431, 439, 481, 445, 62...\n",
              "1         [80, 214, 167, 98, 99, -306, -192, -138, -81, ...\n",
              "2                                                  [83, 27]\n",
              "3         [94, 150, 125, 182, 132, 27, 60, 116, 119, 150...\n",
              "4                        [85, 161, 171, 222, 230, 307, 634]\n",
              "                                ...                        \n",
              "247917    [140, -29, -109, 31, -38, -48, -204, 120, 18, ...\n",
              "247918    [124, 119, 13, -104, -181, -230, -225, -177, -...\n",
              "247919    [102, 33, 24, 157, 338, 618, 484, 472, 472, 59...\n",
              "247920    [85, 160, 112, 146, 195, 150, 349, 346, 123, 3...\n",
              "247921             [121, -27, 102, 88, 249, 883, 994, 1165]\n",
              "Name: PlayerGains, Length: 247392, dtype: object"
            ]
          },
          "metadata": {
            "tags": []
          },
          "execution_count": 219
        }
      ]
    },
    {
      "cell_type": "code",
      "metadata": {
        "id": "ZbtrmQ4ocLoy",
        "colab_type": "code",
        "outputId": "99dc2851-bb3a-442d-b597-5d538a6d0d13",
        "colab": {
          "base_uri": "https://localhost:8080/",
          "height": 362
        }
      },
      "source": [
        "gain_sub_df = interested[['PlayerGainsLen']]\n",
        "gain_sub_df.hist('PlayerGainsLen')\n",
        "plt.show()"
      ],
      "execution_count": 0,
      "outputs": [
        {
          "output_type": "display_data",
          "data": {
            "image/png": "[encoded data removed]",
            "text/plain": [
              "<Figure size 576x396 with 1 Axes>"
            ]
          },
          "metadata": {
            "tags": []
          }
        }
      ]
    },
    {
      "cell_type": "code",
      "metadata": {
        "id": "vTfdm2DLceyi",
        "colab_type": "code",
        "colab": {}
      },
      "source": [
        "import tensorflow as tf\n",
        "from tensorflow.python.keras.preprocessing import sequence\n",
        "from tensorflow.python.keras import models\n",
        "from tensorflow.python.keras.models import Model,Sequential\n",
        "from tensorflow.python.keras import initializers\n",
        "from tensorflow.python.keras import regularizers\n",
        "\n",
        "from tensorflow.python.keras.layers import Dense, GRU,LSTM, Input, Bidirectional,GlobalMaxPool1D\n",
        "from tensorflow.python.keras.layers import Dropout"
      ],
      "execution_count": 0,
      "outputs": []
    },
    {
      "cell_type": "code",
      "metadata": {
        "id": "XyImujWIgluX",
        "colab_type": "code",
        "colab": {}
      },
      "source": [
        "max_length = 30\n",
        "player_gains_seq = sequence.pad_sequences(interested['PlayerGains'], maxlen=max_length, padding='post', truncating='post')\n",
        "lstm_df = pd.DataFrame()\n",
        "\n",
        "lstm_df['PlayerElo'] = interested.astype({'PlayerElo': 'int64'})['PlayerElo']\n",
        "lstm_df['Player_Gains'] = interested['PlayerGains']\n",
        "lstm_df['Range'] = pd.cut(lstm_df['PlayerElo'],[-1,1000,1500,2000,2500],labels=['<1000','1000-1500','1500-2000','>2000'])"
      ],
      "execution_count": 0,
      "outputs": []
    },
    {
      "cell_type": "code",
      "metadata": {
        "id": "vaueJ-e3RVKO",
        "colab_type": "code",
        "outputId": "fdbdd1d8-c826-47b1-f9e2-98f321fd3aa9",
        "colab": {
          "base_uri": "https://localhost:8080/",
          "height": 34
        }
      },
      "source": [
        "lstmdf_upsampled.shape"
      ],
      "execution_count": 0,
      "outputs": [
        {
          "output_type": "execute_result",
          "data": {
            "text/plain": [
              "(269147, 3)"
            ]
          },
          "metadata": {
            "tags": []
          },
          "execution_count": 290
        }
      ]
    },
    {
      "cell_type": "code",
      "metadata": {
        "id": "Or7GYwfodMB9",
        "colab_type": "code",
        "outputId": "70db0469-6bb9-4afd-8087-0c058127d989",
        "colab": {
          "base_uri": "https://localhost:8080/",
          "height": 51
        }
      },
      "source": [
        "from sklearn import preprocessing\n",
        "le = preprocessing.LabelEncoder()\n",
        "Y_new = lstm_df['Range']\n",
        "Y_new = le.fit_transform(Y_new)\n",
        "np.unique(le.inverse_transform(Y_new),return_counts=True)"
      ],
      "execution_count": 0,
      "outputs": [
        {
          "output_type": "execute_result",
          "data": {
            "text/plain": [
              "(array(['1000-1500', '1500-2000', '<1000', '>2000'], dtype=object),\n",
              " array([ 85279, 153868,    534,   7711]))"
            ]
          },
          "metadata": {
            "tags": []
          },
          "execution_count": 291
        }
      ]
    },
    {
      "cell_type": "code",
      "metadata": {
        "id": "CCBvOh-j_242",
        "colab_type": "code",
        "outputId": "df91ece6-bc70-4c39-e806-60487dbde808",
        "colab": {
          "base_uri": "https://localhost:8080/",
          "height": 348
        }
      },
      "source": [
        "plt.hist(Y_new)\n",
        "plt.show()"
      ],
      "execution_count": 0,
      "outputs": [
        {
          "output_type": "display_data",
          "data": {
            "image/png": "[encoded data removed]",
            "text/plain": [
              "<Figure size 576x396 with 1 Axes>"
            ]
          },
          "metadata": {
            "tags": []
          }
        }
      ]
    },
    {
      "cell_type": "code",
      "metadata": {
        "id": "ioQZB1rGMr4u",
        "colab_type": "code",
        "colab": {}
      },
      "source": [
        "from sklearn.model_selection import train_test_split\n",
        "X_train, X_test, y_train, y_test = train_test_split(player_gains_seq, Y_new, test_size=0.25, random_state=3)"
      ],
      "execution_count": 0,
      "outputs": []
    },
    {
      "cell_type": "code",
      "metadata": {
        "id": "pC4sxhFGtyuD",
        "colab_type": "code",
        "colab": {}
      },
      "source": [
        "X_train = np.reshape(X_train, (X_train.shape[0], X_train.shape[1], 1))\n",
        "X_test = np.reshape(X_test, (X_test.shape[0], X_test.shape[1], 1))"
      ],
      "execution_count": 0,
      "outputs": []
    },
    {
      "cell_type": "code",
      "metadata": {
        "id": "Y8Tdq4T_V5zg",
        "colab_type": "code",
        "outputId": "38368d12-41f2-4db2-8080-976a5d855482",
        "colab": {
          "base_uri": "https://localhost:8080/",
          "height": 323
        }
      },
      "source": [
        "model = Sequential()\n",
        "model.add(Bidirectional(LSTM(units=50, return_sequences=True, dropout=0.5, recurrent_dropout=0.25),input_shape=(X_train.shape[1], 1)))\n",
        "model.add(GlobalMaxPool1D())\n",
        "model.add(Dense(50, activation='relu'))\n",
        "model.add(Dropout(0.25))\n",
        "model.add(Dense(units = 7, activation='softmax'))\n",
        "model.compile(loss='sparse_categorical_crossentropy',\n",
        "                  optimizer='adam',\n",
        "                  metrics=['accuracy'])\n",
        "model.summary() "
      ],
      "execution_count": 0,
      "outputs": [
        {
          "output_type": "stream",
          "text": [
            "Model: \"sequential_7\"\n",
            "_________________________________________________________________\n",
            "Layer (type)                 Output Shape              Param #   \n",
            "=================================================================\n",
            "bidirectional_6 (Bidirection (None, 30, 100)           20800     \n",
            "_________________________________________________________________\n",
            "global_max_pooling1d_6 (Glob (None, 100)               0         \n",
            "_________________________________________________________________\n",
            "dense_13 (Dense)             (None, 50)                5050      \n",
            "_________________________________________________________________\n",
            "dropout_6 (Dropout)          (None, 50)                0         \n",
            "_________________________________________________________________\n",
            "dense_14 (Dense)             (None, 7)                 357       \n",
            "=================================================================\n",
            "Total params: 26,207\n",
            "Trainable params: 26,207\n",
            "Non-trainable params: 0\n",
            "_________________________________________________________________\n"
          ],
          "name": "stdout"
        }
      ]
    },
    {
      "cell_type": "code",
      "metadata": {
        "id": "DFi6EezNHyZ7",
        "colab_type": "code",
        "outputId": "ed63a3f0-1049-43bf-fc88-cf5be2167447",
        "colab": {
          "base_uri": "https://localhost:8080/",
          "height": 221
        }
      },
      "source": [
        "import os\n",
        "batch_size = 500\n",
        "  \n",
        "model.fit(X_train, y_train, validation_split=0.2, batch_size=batch_size,\n",
        "          epochs=5, verbose=1)"
      ],
      "execution_count": 0,
      "outputs": [
        {
          "output_type": "stream",
          "text": [
            "Train on 148435 samples, validate on 37109 samples\n",
            "Epoch 1/5\n",
            "148435/148435 [==============================] - 38s 257us/sample - loss: 0.8074 - accuracy: 0.6106 - val_loss: 0.7617 - val_accuracy: 0.6277\n",
            "Epoch 2/5\n",
            "148435/148435 [==============================] - 37s 253us/sample - loss: 0.7764 - accuracy: 0.6244 - val_loss: 0.7572 - val_accuracy: 0.6302\n",
            "Epoch 3/5\n",
            "148435/148435 [==============================] - 37s 251us/sample - loss: 0.7698 - accuracy: 0.6260 - val_loss: 0.7581 - val_accuracy: 0.6335\n",
            "Epoch 4/5\n",
            "148435/148435 [==============================] - 38s 253us/sample - loss: 0.7652 - accuracy: 0.6282 - val_loss: 0.7571 - val_accuracy: 0.6354\n",
            "Epoch 5/5\n",
            "148435/148435 [==============================] - 37s 250us/sample - loss: 0.7638 - accuracy: 0.6283 - val_loss: 0.7494 - val_accuracy: 0.6383\n"
          ],
          "name": "stdout"
        },
        {
          "output_type": "execute_result",
          "data": {
            "text/plain": [
              "<tensorflow.python.keras.callbacks.History at 0x7f9fdb33b358>"
            ]
          },
          "metadata": {
            "tags": []
          },
          "execution_count": 297
        }
      ]
    },
    {
      "cell_type": "code",
      "metadata": {
        "id": "qgfavvXebVa2",
        "colab_type": "code",
        "outputId": "2ea73c58-c0df-4368-ecb3-72839b262c6a",
        "colab": {
          "base_uri": "https://localhost:8080/",
          "height": 238
        }
      },
      "source": [
        "from sklearn.metrics import classification_report,confusion_matrix\n",
        "Y_pred = model.predict(np.float64(X_test))\n",
        "y_pred = np.array([np.argmax(pred) for pred in Y_pred])\n",
        "print('Classification Report(Elo Range):\\n',classification_report(le.inverse_transform(y_test),le.inverse_transform(y_pred)),'\\n')"
      ],
      "execution_count": 0,
      "outputs": [
        {
          "output_type": "stream",
          "text": [
            "Classification Report(Elo Range):\n",
            "               precision    recall  f1-score   support\n",
            "\n",
            "   1000-1500       0.55      0.21      0.30     21319\n",
            "   1500-2000       0.65      0.91      0.76     38488\n",
            "       <1000       0.00      0.00      0.00       135\n",
            "       >2000       0.00      0.00      0.00      1906\n",
            "\n",
            "    accuracy                           0.64     61848\n",
            "   macro avg       0.30      0.28      0.27     61848\n",
            "weighted avg       0.59      0.64      0.58     61848\n",
            " \n",
            "\n"
          ],
          "name": "stdout"
        }
      ]
    },
    {
      "cell_type": "code",
      "metadata": {
        "id": "R3gB1qF95yJo",
        "colab_type": "code",
        "colab": {}
      },
      "source": [
        "Y_game_type = le.fit_transform(interested['Event'])\n",
        "X_train_game_type, X_test_game_type, y_train_game_type, y_test_type = train_test_split(player_gains_seq, Y_game_type, test_size=0.25, random_state=42)\n",
        "\n",
        "X_train_game_type = np.reshape(X_train_game_type, (X_train_game_type.shape[0], X_train_game_type.shape[1], 1))\n",
        "X_test_game_type = np.reshape(X_test_game_type, (X_test_game_type.shape[0], X_test_game_type.shape[1], 1))"
      ],
      "execution_count": 0,
      "outputs": []
    },
    {
      "cell_type": "code",
      "metadata": {
        "id": "DRRAS8JCUtBF",
        "colab_type": "code",
        "outputId": "d9620d3c-fc60-4063-90b0-fd2ee7d1b9eb",
        "colab": {
          "base_uri": "https://localhost:8080/",
          "height": 34
        }
      },
      "source": [
        "Y_game_type"
      ],
      "execution_count": 0,
      "outputs": [
        {
          "output_type": "execute_result",
          "data": {
            "text/plain": [
              "array([2, 0, 1, ..., 0, 2, 2])"
            ]
          },
          "metadata": {
            "tags": []
          },
          "execution_count": 254
        }
      ]
    },
    {
      "cell_type": "code",
      "metadata": {
        "id": "Kcov19KY90Yg",
        "colab_type": "code",
        "outputId": "6762a2a9-6b99-417c-eb88-3658a5bdc90e",
        "colab": {
          "base_uri": "https://localhost:8080/",
          "height": 153
        }
      },
      "source": [
        "model.fit(X_train_game_type, y_train_game_type\n",
        "          , validation_split=0.2, batch_size=batch_size,\n",
        "          epochs=3, verbose=1)"
      ],
      "execution_count": 0,
      "outputs": [
        {
          "output_type": "stream",
          "text": [
            "Train on 148435 samples, validate on 37109 samples\n",
            "Epoch 1/3\n",
            "148435/148435 [==============================] - 37s 251us/sample - loss: 1.1286 - accuracy: 0.4019 - val_loss: 1.0905 - val_accuracy: 0.4105\n",
            "Epoch 2/3\n",
            "148435/148435 [==============================] - 37s 248us/sample - loss: 1.0953 - accuracy: 0.4091 - val_loss: 1.0883 - val_accuracy: 0.4121\n",
            "Epoch 3/3\n",
            "148435/148435 [==============================] - 37s 250us/sample - loss: 1.0938 - accuracy: 0.4107 - val_loss: 1.0890 - val_accuracy: 0.4124\n"
          ],
          "name": "stdout"
        },
        {
          "output_type": "execute_result",
          "data": {
            "text/plain": [
              "<tensorflow.python.keras.callbacks.History at 0x7f9fdad3fc50>"
            ]
          },
          "metadata": {
            "tags": []
          },
          "execution_count": 255
        }
      ]
    },
    {
      "cell_type": "code",
      "metadata": {
        "id": "Fv7jVfJB96ON",
        "colab_type": "code",
        "outputId": "369aecba-e6a4-4f3c-d00a-6c7bc875e2b9",
        "colab": {
          "base_uri": "https://localhost:8080/",
          "height": 238
        }
      },
      "source": [
        "Y_pred = model.predict(np.float64(X_test))\n",
        "y_pred = np.array([np.argmax(pred) for pred in Y_pred])\n",
        "print('Classification Report(Elo Range):\\n',classification_report(le.inverse_transform(y_test),le.inverse_transform(y_pred)),'\\n')"
      ],
      "execution_count": 0,
      "outputs": [
        {
          "output_type": "stream",
          "text": [
            "Classification Report(Elo Range):\n",
            "                 precision    recall  f1-score   support\n",
            "\n",
            "         Blitz       0.34      0.97      0.50     21319\n",
            "        Bullet       0.77      0.00      0.00     38488\n",
            "       Classic       0.01      0.04      0.01       135\n",
            "Correspondence       0.00      0.00      0.00      1906\n",
            "\n",
            "      accuracy                           0.34     61848\n",
            "     macro avg       0.28      0.25      0.13     61848\n",
            "  weighted avg       0.59      0.34      0.18     61848\n",
            " \n",
            "\n"
          ],
          "name": "stdout"
        }
      ]
    },
    {
      "cell_type": "code",
      "metadata": {
        "id": "-SZ1xPdNcooi",
        "colab_type": "code",
        "outputId": "a028d740-af8b-47d1-a859-835d5b6afd53",
        "colab": {
          "base_uri": "https://localhost:8080/",
          "height": 51
        }
      },
      "source": [
        "np.unique(interested['Event'],return_counts=True)"
      ],
      "execution_count": 0,
      "outputs": [
        {
          "output_type": "execute_result",
          "data": {
            "text/plain": [
              "(array(['Blitz', 'Bullet', 'Classic', 'Correspondence'], dtype=object),\n",
              " array([101270,  61974,  83626,    522]))"
            ]
          },
          "metadata": {
            "tags": []
          },
          "execution_count": 52
        }
      ]
    },
    {
      "cell_type": "code",
      "metadata": {
        "id": "iDJwWlJSb030",
        "colab_type": "code",
        "outputId": "b77a6b09-6a22-417f-a74e-581bb84ebb1c",
        "colab": {
          "base_uri": "https://localhost:8080/",
          "height": 34
        }
      },
      "source": [
        "np.unique(le.inverse_transform(y_pred))"
      ],
      "execution_count": 0,
      "outputs": [
        {
          "output_type": "execute_result",
          "data": {
            "text/plain": [
              "array(['Blitz'], dtype=object)"
            ]
          },
          "metadata": {
            "tags": []
          },
          "execution_count": 48
        }
      ]
    },
    {
      "cell_type": "code",
      "metadata": {
        "id": "y4lPND6CcQ0D",
        "colab_type": "code",
        "colab": {
          "base_uri": "https://localhost:8080/",
          "height": 1000
        },
        "outputId": "0b7f3adb-721f-4e0a-c044-963d987ccef8"
      },
      "source": [
        "# Compute the correlation matrix\n",
        "corr = train.corr()\n",
        "\n",
        "# Generate a mask for the upper triangle\n",
        "mask = np.zeros_like(corr, dtype=np.bool)\n",
        "mask[np.triu_indices_from(mask)] = True\n",
        "\n",
        "# Set up the matplotlib figure\n",
        "f, ax = plt.subplots(figsize=(20, 15))\n",
        "\n",
        "# Draw the heatmap with the mask and correct aspect ratio\n",
        "sns.heatmap(corr, mask=mask, square=True)\n"
      ],
      "execution_count": 81,
      "outputs": [
        {
          "output_type": "execute_result",
          "data": {
            "text/plain": [
              "<matplotlib.axes._subplots.AxesSubplot at 0x7fcddd4dfd30>"
            ]
          },
          "metadata": {
            "tags": []
          },
          "execution_count": 81
        },
        {
          "output_type": "display_data",
          "data": {
            "image/png": "[encoded data removed]",
            "text/plain": [
              "<Figure size 1440x1080 with 2 Axes>"
            ]
          },
          "metadata": {
            "tags": []
          }
        }
      ]
    },
    {
      "cell_type": "code",
      "metadata": {
        "id": "TVv3-zobWc-v",
        "colab_type": "code",
        "colab": {}
      },
      "source": [
        "def get_kaggle_format_data(linear_regression_model, train): \n",
        "  y_pred_kaggle = linear_regression_model.predict(train.drop(['OpponentElo'],axis=1)) \n",
        "  kaggle_submit = train.copy()\n",
        "  kaggle_submit['PlayerElo'] = y_pred_kaggle\n",
        "  kaggle_submit = kaggle_submit[['Event','PlayerElo']]\n",
        "  white_kaggle_submit = kaggle_submit[0:25000]\n",
        "  black_kaggle_submit = kaggle_submit[25000:]\n",
        "  white_kaggle_submit=white_kaggle_submit.rename(columns={'PlayerElo':'WhiteElo'})\n",
        "  black_kaggle_submit=black_kaggle_submit.rename(columns={'PlayerElo':'BlackElo'})\n",
        "  kaggle_submit = white_kaggle_submit.merge(black_kaggle_submit, on='Event')\n",
        "  return kaggle_submit;"
      ],
      "execution_count": 0,
      "outputs": []
    },
    {
      "cell_type": "code",
      "metadata": {
        "id": "C6BBsV37y24U",
        "colab_type": "code",
        "colab": {}
      },
      "source": [
        "kaggle_format = get_kaggle_format_data(linear_regression_model, train)"
      ],
      "execution_count": 0,
      "outputs": []
    },
    {
      "cell_type": "code",
      "metadata": {
        "id": "d5a92dMhxxBY",
        "colab_type": "code",
        "colab": {}
      },
      "source": [
        "kaggle_format.to_csv('/content/drive/My Drive/DSF_Project/KaggleDataEDA/submission1.csv',index=False)"
      ],
      "execution_count": 0,
      "outputs": []
    },
    {
      "cell_type": "code",
      "metadata": {
        "id": "6G08wwJc-4oW",
        "colab_type": "code",
        "colab": {}
      },
      "source": [
        ""
      ],
      "execution_count": 0,
      "outputs": []
    },
    {
      "cell_type": "code",
      "metadata": {
        "colab_type": "code",
        "id": "FMkBHdOM5MW4",
        "colab": {}
      },
      "source": [
        "\n",
        "pca = PCA(n_components=2)\n",
        "principalComponents = pca.fit_transform(features)\n",
        "principalDf = pd.DataFrame(data = principalComponents, columns = ['PC1', 'PC2'])\n",
        "finalDf = pd.concat([principalDf, interested['PlayerElo']], axis = 1)"
      ],
      "execution_count": 0,
      "outputs": []
    },
    {
      "cell_type": "code",
      "metadata": {
        "id": "LIm65RjByndN",
        "colab_type": "code",
        "colab": {}
      },
      "source": [
        "\n",
        "model = ols(\"PlayerElo ~ PC1 + PC2\", data=finalDf).fit()\n",
        "print(model.summary())"
      ],
      "execution_count": 0,
      "outputs": []
    },
    {
      "cell_type": "code",
      "metadata": {
        "id": "qb4eTqSFX8DU",
        "colab_type": "code",
        "outputId": "3a63ae66-a47f-4921-d929-ce933d2985b4",
        "colab": {
          "base_uri": "https://localhost:8080/",
          "height": 774
        }
      },
      "source": [
        "# Compute the correlation matrix\n",
        "corr = features.corr()\n",
        "\n",
        "# Generate a mask for the upper triangle\n",
        "mask = np.zeros_like(corr, dtype=np.bool)\n",
        "mask[np.triu_indices_from(mask)] = True\n",
        "\n",
        "# Set up the matplotlib figure\n",
        "f, ax = plt.subplots(figsize=(12, 12))\n",
        "\n",
        "# Draw the heatmap with the mask and correct aspect ratio\n",
        "sns.heatmap(corr, mask=mask, square=True)\n"
      ],
      "execution_count": 0,
      "outputs": [
        {
          "output_type": "execute_result",
          "data": {
            "text/plain": [
              "<matplotlib.axes._subplots.AxesSubplot at 0x7ffaaa7aee10>"
            ]
          },
          "metadata": {
            "tags": []
          },
          "execution_count": 106
        },
        {
          "output_type": "display_data",
          "data": {
            "image/png": "[encoded data removed]",
            "text/plain": [
              "<Figure size 864x864 with 2 Axes>"
            ]
          },
          "metadata": {
            "tags": []
          }
        }
      ]
    },
    {
      "cell_type": "code",
      "metadata": {
        "id": "VVB3RjiD1or7",
        "colab_type": "code",
        "outputId": "a01a2427-1662-41ff-8d7c-56905896ffd5",
        "colab": {
          "base_uri": "https://localhost:8080/",
          "height": 969
        }
      },
      "source": [
        "!python pgn_to_json_csv_converter_aps.py Kaggle/data.pgn w 50000 1000 true"
      ],
      "execution_count": 0,
      "outputs": [
        {
          "output_type": "stream",
          "text": [
            "Gathering from files: ['Kaggle/data.pgn']\n",
            "Starting with file: <_io.TextIOWrapper name='Kaggle/data.pgn' mode='r' encoding='UTF-8'>\n",
            "Processed games:  1000 | Process time:    91.20 | Batch time: 91.19\n",
            "Processed games:  2000 | Process time:   187.74 | Batch time: 96.55\n",
            "Processed games:  3000 | Process time:   288.93 | Batch time: 101.19\n",
            "Processed games:  4000 | Process time:   394.44 | Batch time: 105.51\n",
            "Processed games:  5000 | Process time:   513.09 | Batch time: 118.65\n",
            "Processed games:  6000 | Process time:   625.95 | Batch time: 112.86\n",
            "Processed games:  7000 | Process time:   737.08 | Batch time: 111.13\n",
            "Processed games:  8000 | Process time:   861.18 | Batch time: 124.10\n",
            "Processed games:  9000 | Process time:   976.22 | Batch time: 115.04\n",
            "Processed games: 10000 | Process time:  1099.42 | Batch time: 123.20\n",
            "Processed games: 11000 | Process time:  1215.45 | Batch time: 116.03\n",
            "Processed games: 12000 | Process time:  1337.96 | Batch time: 122.51\n",
            "Processed games: 13000 | Process time:  1461.13 | Batch time: 123.17\n",
            "Processed games: 14000 | Process time:  1581.14 | Batch time: 120.01\n",
            "Processed games: 15000 | Process time:  1701.75 | Batch time: 120.61\n",
            "Processed games: 16000 | Process time:  1831.16 | Batch time: 129.41\n",
            "Processed games: 17000 | Process time:  1954.58 | Batch time: 123.42\n",
            "Processed games: 18000 | Process time:  2077.19 | Batch time: 122.61\n",
            "Processed games: 19000 | Process time:  2209.00 | Batch time: 131.81\n",
            "Processed games: 20000 | Process time:  2334.85 | Batch time: 125.86\n",
            "Processed games: 21000 | Process time:  2465.56 | Batch time: 130.71\n",
            "Processed games: 22000 | Process time:  2588.20 | Batch time: 122.64\n",
            "Processed games: 23000 | Process time:  2730.12 | Batch time: 141.92\n",
            "Processed games: 24000 | Process time:  2861.72 | Batch time: 131.60\n",
            "Processed games: 25000 | Process time:  2989.60 | Batch time: 127.88\n",
            "Processed games: 26000 | Process time:  3117.13 | Batch time: 127.53\n",
            "Processed games: 27000 | Process time:  3240.26 | Batch time: 123.13\n",
            "Processed games: 28000 | Process time:  3369.86 | Batch time: 129.61\n",
            "Processed games: 29000 | Process time:  3496.67 | Batch time: 126.81\n",
            "Processed games: 30000 | Process time:  3629.76 | Batch time: 133.09\n",
            "Processed games: 31000 | Process time:  3757.66 | Batch time: 127.90\n",
            "Processed games: 32000 | Process time:  3888.67 | Batch time: 131.01\n",
            "Processed games: 33000 | Process time:  4019.06 | Batch time: 130.39\n",
            "Processed games: 34000 | Process time:  4156.95 | Batch time: 137.89\n",
            "Processed games: 35000 | Process time:  4284.61 | Batch time: 127.66\n",
            "Processed games: 36000 | Process time:  4421.03 | Batch time: 136.42\n",
            "Processed games: 37000 | Process time:  4555.42 | Batch time: 134.40\n",
            "Processed games: 38000 | Process time:  4682.09 | Batch time: 126.67\n",
            "Processed games: 39000 | Process time:  4818.88 | Batch time: 136.78\n",
            "Processed games: 40000 | Process time:  4950.31 | Batch time: 131.43\n",
            "Processed games: 41000 | Process time:  5081.63 | Batch time: 131.32\n",
            "Processed games: 42000 | Process time:  5213.65 | Batch time: 132.02\n",
            "Processed games: 43000 | Process time:  5348.12 | Batch time: 134.47\n",
            "Processed games: 44000 | Process time:  5484.61 | Batch time: 136.48\n",
            "Processed games: 45000 | Process time:  5617.10 | Batch time: 132.49\n",
            "Processed games: 46000 | Process time:  5749.27 | Batch time: 132.18\n",
            "Processed games: 47000 | Process time:  5878.89 | Batch time: 129.61\n",
            "Processed games: 48000 | Process time:  6007.55 | Batch time: 128.67\n",
            "Processed games: 49000 | Process time:  6139.26 | Batch time: 131.71\n",
            "Processed games: 50000 | Process time:  6265.10 | Batch time: 125.84\n",
            "50000 games retrieved from file Kaggle/data.pgn\n",
            "Failed to process games: 0\n",
            "All files read! Dumping to json and CSV!\n",
            "Done! Processed games:  50000\n"
          ],
          "name": "stdout"
        }
      ]
    },
    {
      "cell_type": "markdown",
      "metadata": {
        "id": "B4EYt6h0_e1w",
        "colab_type": "text"
      },
      "source": [
        "This strategy only consider endgame statistics, There is scope to look into mid game stats too.\n",
        "\n",
        "\n",
        "\n",
        "Check opening moves in perspective of white and black\n",
        "\n",
        "isBlack,\n",
        "NegativeMoves Percent\n"
      ]
    },
    {
      "cell_type": "code",
      "metadata": {
        "id": "YHCqWR0bSrh_",
        "colab_type": "code",
        "colab": {}
      },
      "source": [
        "#HERE"
      ],
      "execution_count": 0,
      "outputs": []
    },
    {
      "cell_type": "code",
      "metadata": {
        "id": "lHKRbaATeLoe",
        "colab_type": "code",
        "outputId": "a8c8a690-e85f-457e-d675-51ddf358e676",
        "colab": {
          "base_uri": "https://localhost:8080/",
          "height": 425
        }
      },
      "source": [
        ""
      ],
      "execution_count": 0,
      "outputs": [
        {
          "output_type": "stream",
          "text": [
            "Index(['OpponentBlunder', 'OpponentCaptures', 'OpponentCastling',\n",
            "       'OpponentCheckMate', 'OpponentChecks', 'OpponentPoorMove',\n",
            "       'OpponentPromote', 'OpponentPromoteQueen', 'OpponentQuestionableMoves',\n",
            "       'Opponent_End_Center', 'Opponent_Mid_Center', 'Opponent_Open_Center',\n",
            "       'PlayerBlunder', 'PlayerCaptures', 'PlayerCastling', 'PlayerCheckMate',\n",
            "       'PlayerChecks', 'Player_Open_Diag', 'Player_Mid_Diag',\n",
            "       'Player_End_Diag', 'Player_Open_Pins', 'Player_Mid_Pins',\n",
            "       'Player_End_Pins', 'Opponent_Open_Pins', 'Opponent_Mid_Pins',\n",
            "       'Opponent_End_Pins', 'Opponent_Open_Diag', 'Opponent_Mid_Diag',\n",
            "       'Opponent_End_Diag', 'PlayerPoorMove', 'PlayerPromote',\n",
            "       'PlayerPromoteQueen', 'PlayerQuestionableMoves', 'Player_End_Center',\n",
            "       'Player_Mid_Center', 'Player_Open_Center', 'Result', 'isWhite',\n",
            "       'Q_Moves_Num', 'B_Moves_Num', 'N_Moves_Num', 'R_Moves_Num',\n",
            "       'K_Moves_Num', 'Total_Moves', 'Q_Moves_First', 'B_Moves_First',\n",
            "       'N_Moves_First', 'R_Moves_First', 'K_Moves_First'],\n",
            "      dtype='object')\n",
            "[23:50:22] WARNING: /workspace/src/objective/regression_obj.cu:152: reg:linear is now deprecated in favor of reg:squarederror.\n",
            "===============================================================================\n",
            "Metrics for XGBoost\n",
            "Mean Absolute Error: 151.73134666249666\n",
            "Mean Squared Error: 36525.617904853476\n",
            "Root Mean Squared Error: 191.1167651067103\n",
            "R2 Score 0.17771590261598702\n",
            "===============================================================================\n"
          ],
          "name": "stdout"
        }
      ]
    },
    {
      "cell_type": "code",
      "metadata": {
        "id": "DBI27EvOSs7O",
        "colab_type": "code",
        "outputId": "da9ffad8-5ba1-4a6a-c83a-238f2844bfed",
        "colab": {
          "base_uri": "https://localhost:8080/",
          "height": 425
        }
      },
      "source": [
        "# linear_regression_model = perform_LinearRegression(train, interested)\n",
        "# random_forest_refressor_model = perform_RandomForestRegressor(train, interested)\n",
        "train_copy = train.copy()\n",
        "train_copy=train_copy.drop('Event', axis=1)\n",
        "train_copy=train_copy.drop('OpponentElo', axis=1)\n",
        "train_copy=train_copy.drop('PlayerMoves', axis=1)\n",
        "print(train_copy.columns)\n",
        "X_train, X_test, y_train, y_test = train_test_split(train_copy, interested['PlayerElo'].to_numpy(), test_size=0.2,random_state=1) \n",
        "reg = XGBRegressor()\n",
        "\n",
        "# train the model using the training sets \n",
        "reg.fit(X_train, y_train)\n",
        "y_pred = reg.predict(X_test) \n",
        "printMetrics(y_test, y_pred, \"Metrics for XGBoost\")"
      ],
      "execution_count": 0,
      "outputs": [
        {
          "output_type": "stream",
          "text": [
            "Index(['OpponentBlunder', 'OpponentCaptures', 'OpponentCastling',\n",
            "       'OpponentCheckMate', 'OpponentChecks', 'OpponentPoorMove',\n",
            "       'OpponentPromote', 'OpponentPromoteQueen', 'OpponentQuestionableMoves',\n",
            "       'Opponent_End_Center', 'Opponent_Mid_Center', 'Opponent_Open_Center',\n",
            "       'PlayerBlunder', 'PlayerCaptures', 'PlayerCastling', 'PlayerCheckMate',\n",
            "       'PlayerChecks', 'Player_Open_Diag', 'Player_Mid_Diag',\n",
            "       'Player_End_Diag', 'Player_Open_Pins', 'Player_Mid_Pins',\n",
            "       'Player_End_Pins', 'Opponent_Open_Pins', 'Opponent_Mid_Pins',\n",
            "       'Opponent_End_Pins', 'Opponent_Open_Diag', 'Opponent_Mid_Diag',\n",
            "       'Opponent_End_Diag', 'PlayerPoorMove', 'PlayerPromote',\n",
            "       'PlayerPromoteQueen', 'PlayerQuestionableMoves', 'Player_End_Center',\n",
            "       'Player_Mid_Center', 'Player_Open_Center', 'Result', 'isWhite',\n",
            "       'Q_Moves_Num', 'B_Moves_Num', 'N_Moves_Num', 'R_Moves_Num',\n",
            "       'K_Moves_Num', 'Total_Moves', 'Q_Moves_First', 'B_Moves_First',\n",
            "       'N_Moves_First', 'R_Moves_First', 'K_Moves_First'],\n",
            "      dtype='object')\n",
            "[23:15:32] WARNING: /workspace/src/objective/regression_obj.cu:152: reg:linear is now deprecated in favor of reg:squarederror.\n",
            "===============================================================================\n",
            "Metrics for XGBoost\n",
            "Mean Absolute Error: 150.3819039481027\n",
            "Mean Squared Error: 36081.916554035204\n",
            "Root Mean Squared Error: 189.95240602328576\n",
            "R2 Score 0.18520599721629305\n",
            "===============================================================================\n"
          ],
          "name": "stdout"
        }
      ]
    },
    {
      "cell_type": "code",
      "metadata": {
        "id": "-LUdm3aMS18T",
        "colab_type": "code",
        "outputId": "49960644-c2b2-4016-f40d-3c56dfb7d5b5",
        "colab": {
          "base_uri": "https://localhost:8080/",
          "height": 34
        }
      },
      "source": [
        "type(interested['PlayerElo'].to_numpy())"
      ],
      "execution_count": 0,
      "outputs": [
        {
          "output_type": "execute_result",
          "data": {
            "text/plain": [
              "numpy.ndarray"
            ]
          },
          "metadata": {
            "tags": []
          },
          "execution_count": 294
        }
      ]
    },
    {
      "cell_type": "code",
      "metadata": {
        "id": "yiAq2ZlqX1CJ",
        "colab_type": "code",
        "colab": {}
      },
      "source": [
        "complete_dataset = pd.read_csv('/content/drive/My Drive/Project-Final/PGNParse/Final-Data/data.csv')"
      ],
      "execution_count": 0,
      "outputs": []
    },
    {
      "cell_type": "code",
      "metadata": {
        "id": "li0-pkoyYXtK",
        "colab_type": "code",
        "colab": {}
      },
      "source": [
        "complete_dataset_copy = complete_dataset.copy()"
      ],
      "execution_count": 0,
      "outputs": []
    },
    {
      "cell_type": "code",
      "metadata": {
        "id": "RLc8FYmrUynH",
        "colab_type": "code",
        "outputId": "53fce304-b254-462d-f0ce-6d36a6517fbe",
        "colab": {
          "base_uri": "https://localhost:8080/",
          "height": 528
        }
      },
      "source": [
        "\n",
        "# complete_dataset=pd.DataFrame(complete_dataset)\n",
        "# print(complete_dataset['Moves'].head(5))\n",
        "complete_dataset['BlackMoves']=complete_dataset['Moves']\t\n",
        "# print(complete_dataset['BlackMoves'].head(5))\n",
        "complete_dataset['BlackMoves'] = complete_dataset['BlackMoves'].str[1:]\n",
        "# print(complete_dataset['BlackMoves'].head(5))\n",
        "complete_dataset['BlackMoves'] = complete_dataset['BlackMoves'].str[:-1]\n",
        "# print(complete_dataset['BlackMoves'].head(5))\n",
        "complete_dataset['BlackMoves']=complete_dataset['BlackMoves'].str.split(', ')\n",
        "# print(complete_dataset['BlackMoves'].head(5))\n",
        "\n",
        "print(complete_dataset.shape)\n",
        "print(complete_dataset.head(10001).tail(5))\n",
        "complete_dataset_copy2=complete_dataset.head(10001)\n",
        "# print(complete_dataset_copy2['Moves'])\n",
        "# print(complete_dataset_copy2.BlackMoves.map(lambda x: x[1::2]))\n",
        "min_moves=10\n",
        "applyFunctionOverArrayInColumn(complete_dataset_copy2, 'WhiteCenter', 'White_Open_Center', lambda x: np.mean(np.array_split(x, 3)[0]) if len(x) > min_moves else 0.0, False, True)"
      ],
      "execution_count": 0,
      "outputs": [
        {
          "output_type": "stream",
          "text": [
            "(123974, 28)\n",
            "                      Event  ...                                         BlackMoves\n",
            "9996       Rated Blitz game  ...  ['e4', 'c5', 'Nf3', 'd6', 'Nc3', 'Nc6', 'd4', ...\n",
            "9997   Rated Classical game  ...  ['e4', 'e5', 'Nf3', 'Nc6', 'Bb5', 'Bc5', 'Bxc6...\n",
            "9998      Rated Bullet game  ...  ['e4', 'e5', 'Nf3', 'Nc6', 'Bc4', 'Bc5', 'O-O'...\n",
            "9999   Rated Classical game  ...  ['d4', 'd5', 'Nf3', 'Bf5', 'e3', 'Nc6', 'Bd3',...\n",
            "10000                 Event  ...                                              [ove]\n",
            "\n",
            "[5 rows x 28 columns]\n"
          ],
          "name": "stdout"
        },
        {
          "output_type": "error",
          "ename": "ValueError",
          "evalue": "ignored",
          "traceback": [
            "\u001b[0;31m---------------------------------------------------------------------------\u001b[0m",
            "\u001b[0;31mValueError\u001b[0m                                Traceback (most recent call last)",
            "\u001b[0;32m<ipython-input-356-4107f46206aa>\u001b[0m in \u001b[0;36m<module>\u001b[0;34m()\u001b[0m\n\u001b[1;32m     14\u001b[0m \u001b[0;31m# print(complete_dataset_copy2.BlackMoves.map(lambda x: x[1::2]))\u001b[0m\u001b[0;34m\u001b[0m\u001b[0;34m\u001b[0m\u001b[0;34m\u001b[0m\u001b[0m\n\u001b[1;32m     15\u001b[0m \u001b[0mmin_moves\u001b[0m\u001b[0;34m=\u001b[0m\u001b[0;36m10\u001b[0m\u001b[0;34m\u001b[0m\u001b[0;34m\u001b[0m\u001b[0m\n\u001b[0;32m---> 16\u001b[0;31m \u001b[0mapplyFunctionOverArrayInColumn\u001b[0m\u001b[0;34m(\u001b[0m\u001b[0mcomplete_dataset_copy2\u001b[0m\u001b[0;34m,\u001b[0m \u001b[0;34m'WhiteCenter'\u001b[0m\u001b[0;34m,\u001b[0m \u001b[0;34m'White_Open_Center'\u001b[0m\u001b[0;34m,\u001b[0m \u001b[0;32mlambda\u001b[0m \u001b[0mx\u001b[0m\u001b[0;34m:\u001b[0m \u001b[0mnp\u001b[0m\u001b[0;34m.\u001b[0m\u001b[0mmean\u001b[0m\u001b[0;34m(\u001b[0m\u001b[0mnp\u001b[0m\u001b[0;34m.\u001b[0m\u001b[0marray_split\u001b[0m\u001b[0;34m(\u001b[0m\u001b[0mx\u001b[0m\u001b[0;34m,\u001b[0m \u001b[0;36m3\u001b[0m\u001b[0;34m)\u001b[0m\u001b[0;34m[\u001b[0m\u001b[0;36m0\u001b[0m\u001b[0;34m]\u001b[0m\u001b[0;34m)\u001b[0m \u001b[0;32mif\u001b[0m \u001b[0mlen\u001b[0m\u001b[0;34m(\u001b[0m\u001b[0mx\u001b[0m\u001b[0;34m)\u001b[0m \u001b[0;34m>\u001b[0m \u001b[0mmin_moves\u001b[0m \u001b[0;32melse\u001b[0m \u001b[0;36m0.0\u001b[0m\u001b[0;34m,\u001b[0m \u001b[0;32mFalse\u001b[0m\u001b[0;34m,\u001b[0m \u001b[0;32mTrue\u001b[0m\u001b[0;34m)\u001b[0m\u001b[0;34m\u001b[0m\u001b[0;34m\u001b[0m\u001b[0m\n\u001b[0m",
            "\u001b[0;32m<ipython-input-106-7a5a3b871606>\u001b[0m in \u001b[0;36mapplyFunctionOverArrayInColumn\u001b[0;34m(dataframe, columnName, newColumnName, func, containsApostrophe, isNums)\u001b[0m\n\u001b[1;32m      9\u001b[0m     \u001b[0mdataframe\u001b[0m\u001b[0;34m.\u001b[0m\u001b[0mloc\u001b[0m\u001b[0;34m[\u001b[0m\u001b[0;34m:\u001b[0m\u001b[0;34m,\u001b[0m \u001b[0mnewColumnName\u001b[0m\u001b[0;34m]\u001b[0m \u001b[0;34m=\u001b[0m \u001b[0mdataframe\u001b[0m\u001b[0;34m[\u001b[0m\u001b[0mnewColumnName\u001b[0m\u001b[0;34m]\u001b[0m\u001b[0;34m.\u001b[0m\u001b[0mstr\u001b[0m\u001b[0;34m.\u001b[0m\u001b[0msplit\u001b[0m\u001b[0;34m(\u001b[0m\u001b[0;34m', '\u001b[0m\u001b[0;34m)\u001b[0m\u001b[0;34m\u001b[0m\u001b[0;34m\u001b[0m\u001b[0m\n\u001b[1;32m     10\u001b[0m     \u001b[0;31m# print(dataframe[newColumnName])\u001b[0m\u001b[0;34m\u001b[0m\u001b[0;34m\u001b[0m\u001b[0;34m\u001b[0m\u001b[0m\n\u001b[0;32m---> 11\u001b[0;31m     \u001b[0mdataframe\u001b[0m\u001b[0;34m.\u001b[0m\u001b[0mloc\u001b[0m\u001b[0;34m[\u001b[0m\u001b[0;34m:\u001b[0m\u001b[0;34m,\u001b[0m \u001b[0mnewColumnName\u001b[0m\u001b[0;34m]\u001b[0m \u001b[0;34m=\u001b[0m \u001b[0mdataframe\u001b[0m\u001b[0;34m[\u001b[0m\u001b[0mnewColumnName\u001b[0m\u001b[0;34m]\u001b[0m\u001b[0;34m.\u001b[0m\u001b[0mmap\u001b[0m\u001b[0;34m(\u001b[0m\u001b[0;32mlambda\u001b[0m \u001b[0mx\u001b[0m\u001b[0;34m:\u001b[0m \u001b[0;34m[\u001b[0m\u001b[0mint\u001b[0m\u001b[0;34m(\u001b[0m\u001b[0my\u001b[0m\u001b[0;34m)\u001b[0m \u001b[0;32mfor\u001b[0m \u001b[0my\u001b[0m \u001b[0;32min\u001b[0m \u001b[0mx\u001b[0m \u001b[0;32mif\u001b[0m \u001b[0mlen\u001b[0m\u001b[0;34m(\u001b[0m\u001b[0my\u001b[0m\u001b[0;34m)\u001b[0m \u001b[0;34m!=\u001b[0m \u001b[0;36m0\u001b[0m\u001b[0;34m]\u001b[0m\u001b[0;34m)\u001b[0m\u001b[0;34m\u001b[0m\u001b[0;34m\u001b[0m\u001b[0m\n\u001b[0m\u001b[1;32m     12\u001b[0m \u001b[0;34m\u001b[0m\u001b[0m\n\u001b[1;32m     13\u001b[0m   \u001b[0;31m# print(dataframe[newColumnName])\u001b[0m\u001b[0;34m\u001b[0m\u001b[0;34m\u001b[0m\u001b[0;34m\u001b[0m\u001b[0m\n",
            "\u001b[0;32m/usr/local/lib/python3.6/dist-packages/pandas/core/series.py\u001b[0m in \u001b[0;36mmap\u001b[0;34m(self, arg, na_action)\u001b[0m\n\u001b[1;32m   3826\u001b[0m         \u001b[0mdtype\u001b[0m\u001b[0;34m:\u001b[0m \u001b[0mobject\u001b[0m\u001b[0;34m\u001b[0m\u001b[0;34m\u001b[0m\u001b[0m\n\u001b[1;32m   3827\u001b[0m         \"\"\"\n\u001b[0;32m-> 3828\u001b[0;31m         \u001b[0mnew_values\u001b[0m \u001b[0;34m=\u001b[0m \u001b[0msuper\u001b[0m\u001b[0;34m(\u001b[0m\u001b[0;34m)\u001b[0m\u001b[0;34m.\u001b[0m\u001b[0m_map_values\u001b[0m\u001b[0;34m(\u001b[0m\u001b[0marg\u001b[0m\u001b[0;34m,\u001b[0m \u001b[0mna_action\u001b[0m\u001b[0;34m=\u001b[0m\u001b[0mna_action\u001b[0m\u001b[0;34m)\u001b[0m\u001b[0;34m\u001b[0m\u001b[0;34m\u001b[0m\u001b[0m\n\u001b[0m\u001b[1;32m   3829\u001b[0m         \u001b[0;32mreturn\u001b[0m \u001b[0mself\u001b[0m\u001b[0;34m.\u001b[0m\u001b[0m_constructor\u001b[0m\u001b[0;34m(\u001b[0m\u001b[0mnew_values\u001b[0m\u001b[0;34m,\u001b[0m \u001b[0mindex\u001b[0m\u001b[0;34m=\u001b[0m\u001b[0mself\u001b[0m\u001b[0;34m.\u001b[0m\u001b[0mindex\u001b[0m\u001b[0;34m)\u001b[0m\u001b[0;34m.\u001b[0m\u001b[0m__finalize__\u001b[0m\u001b[0;34m(\u001b[0m\u001b[0mself\u001b[0m\u001b[0;34m)\u001b[0m\u001b[0;34m\u001b[0m\u001b[0;34m\u001b[0m\u001b[0m\n\u001b[1;32m   3830\u001b[0m \u001b[0;34m\u001b[0m\u001b[0m\n",
            "\u001b[0;32m/usr/local/lib/python3.6/dist-packages/pandas/core/base.py\u001b[0m in \u001b[0;36m_map_values\u001b[0;34m(self, mapper, na_action)\u001b[0m\n\u001b[1;32m   1298\u001b[0m \u001b[0;34m\u001b[0m\u001b[0m\n\u001b[1;32m   1299\u001b[0m         \u001b[0;31m# mapper is a function\u001b[0m\u001b[0;34m\u001b[0m\u001b[0;34m\u001b[0m\u001b[0;34m\u001b[0m\u001b[0m\n\u001b[0;32m-> 1300\u001b[0;31m         \u001b[0mnew_values\u001b[0m \u001b[0;34m=\u001b[0m \u001b[0mmap_f\u001b[0m\u001b[0;34m(\u001b[0m\u001b[0mvalues\u001b[0m\u001b[0;34m,\u001b[0m \u001b[0mmapper\u001b[0m\u001b[0;34m)\u001b[0m\u001b[0;34m\u001b[0m\u001b[0;34m\u001b[0m\u001b[0m\n\u001b[0m\u001b[1;32m   1301\u001b[0m \u001b[0;34m\u001b[0m\u001b[0m\n\u001b[1;32m   1302\u001b[0m         \u001b[0;32mreturn\u001b[0m \u001b[0mnew_values\u001b[0m\u001b[0;34m\u001b[0m\u001b[0;34m\u001b[0m\u001b[0m\n",
            "\u001b[0;32mpandas/_libs/lib.pyx\u001b[0m in \u001b[0;36mpandas._libs.lib.map_infer\u001b[0;34m()\u001b[0m\n",
            "\u001b[0;32m<ipython-input-106-7a5a3b871606>\u001b[0m in \u001b[0;36m<lambda>\u001b[0;34m(x)\u001b[0m\n\u001b[1;32m      9\u001b[0m     \u001b[0mdataframe\u001b[0m\u001b[0;34m.\u001b[0m\u001b[0mloc\u001b[0m\u001b[0;34m[\u001b[0m\u001b[0;34m:\u001b[0m\u001b[0;34m,\u001b[0m \u001b[0mnewColumnName\u001b[0m\u001b[0;34m]\u001b[0m \u001b[0;34m=\u001b[0m \u001b[0mdataframe\u001b[0m\u001b[0;34m[\u001b[0m\u001b[0mnewColumnName\u001b[0m\u001b[0;34m]\u001b[0m\u001b[0;34m.\u001b[0m\u001b[0mstr\u001b[0m\u001b[0;34m.\u001b[0m\u001b[0msplit\u001b[0m\u001b[0;34m(\u001b[0m\u001b[0;34m', '\u001b[0m\u001b[0;34m)\u001b[0m\u001b[0;34m\u001b[0m\u001b[0;34m\u001b[0m\u001b[0m\n\u001b[1;32m     10\u001b[0m     \u001b[0;31m# print(dataframe[newColumnName])\u001b[0m\u001b[0;34m\u001b[0m\u001b[0;34m\u001b[0m\u001b[0;34m\u001b[0m\u001b[0m\n\u001b[0;32m---> 11\u001b[0;31m     \u001b[0mdataframe\u001b[0m\u001b[0;34m.\u001b[0m\u001b[0mloc\u001b[0m\u001b[0;34m[\u001b[0m\u001b[0;34m:\u001b[0m\u001b[0;34m,\u001b[0m \u001b[0mnewColumnName\u001b[0m\u001b[0;34m]\u001b[0m \u001b[0;34m=\u001b[0m \u001b[0mdataframe\u001b[0m\u001b[0;34m[\u001b[0m\u001b[0mnewColumnName\u001b[0m\u001b[0;34m]\u001b[0m\u001b[0;34m.\u001b[0m\u001b[0mmap\u001b[0m\u001b[0;34m(\u001b[0m\u001b[0;32mlambda\u001b[0m \u001b[0mx\u001b[0m\u001b[0;34m:\u001b[0m \u001b[0;34m[\u001b[0m\u001b[0mint\u001b[0m\u001b[0;34m(\u001b[0m\u001b[0my\u001b[0m\u001b[0;34m)\u001b[0m \u001b[0;32mfor\u001b[0m \u001b[0my\u001b[0m \u001b[0;32min\u001b[0m \u001b[0mx\u001b[0m \u001b[0;32mif\u001b[0m \u001b[0mlen\u001b[0m\u001b[0;34m(\u001b[0m\u001b[0my\u001b[0m\u001b[0;34m)\u001b[0m \u001b[0;34m!=\u001b[0m \u001b[0;36m0\u001b[0m\u001b[0;34m]\u001b[0m\u001b[0;34m)\u001b[0m\u001b[0;34m\u001b[0m\u001b[0;34m\u001b[0m\u001b[0m\n\u001b[0m\u001b[1;32m     12\u001b[0m \u001b[0;34m\u001b[0m\u001b[0m\n\u001b[1;32m     13\u001b[0m   \u001b[0;31m# print(dataframe[newColumnName])\u001b[0m\u001b[0;34m\u001b[0m\u001b[0;34m\u001b[0m\u001b[0;34m\u001b[0m\u001b[0m\n",
            "\u001b[0;32m<ipython-input-106-7a5a3b871606>\u001b[0m in \u001b[0;36m<listcomp>\u001b[0;34m(.0)\u001b[0m\n\u001b[1;32m      9\u001b[0m     \u001b[0mdataframe\u001b[0m\u001b[0;34m.\u001b[0m\u001b[0mloc\u001b[0m\u001b[0;34m[\u001b[0m\u001b[0;34m:\u001b[0m\u001b[0;34m,\u001b[0m \u001b[0mnewColumnName\u001b[0m\u001b[0;34m]\u001b[0m \u001b[0;34m=\u001b[0m \u001b[0mdataframe\u001b[0m\u001b[0;34m[\u001b[0m\u001b[0mnewColumnName\u001b[0m\u001b[0;34m]\u001b[0m\u001b[0;34m.\u001b[0m\u001b[0mstr\u001b[0m\u001b[0;34m.\u001b[0m\u001b[0msplit\u001b[0m\u001b[0;34m(\u001b[0m\u001b[0;34m', '\u001b[0m\u001b[0;34m)\u001b[0m\u001b[0;34m\u001b[0m\u001b[0;34m\u001b[0m\u001b[0m\n\u001b[1;32m     10\u001b[0m     \u001b[0;31m# print(dataframe[newColumnName])\u001b[0m\u001b[0;34m\u001b[0m\u001b[0;34m\u001b[0m\u001b[0;34m\u001b[0m\u001b[0m\n\u001b[0;32m---> 11\u001b[0;31m     \u001b[0mdataframe\u001b[0m\u001b[0;34m.\u001b[0m\u001b[0mloc\u001b[0m\u001b[0;34m[\u001b[0m\u001b[0;34m:\u001b[0m\u001b[0;34m,\u001b[0m \u001b[0mnewColumnName\u001b[0m\u001b[0;34m]\u001b[0m \u001b[0;34m=\u001b[0m \u001b[0mdataframe\u001b[0m\u001b[0;34m[\u001b[0m\u001b[0mnewColumnName\u001b[0m\u001b[0;34m]\u001b[0m\u001b[0;34m.\u001b[0m\u001b[0mmap\u001b[0m\u001b[0;34m(\u001b[0m\u001b[0;32mlambda\u001b[0m \u001b[0mx\u001b[0m\u001b[0;34m:\u001b[0m \u001b[0;34m[\u001b[0m\u001b[0mint\u001b[0m\u001b[0;34m(\u001b[0m\u001b[0my\u001b[0m\u001b[0;34m)\u001b[0m \u001b[0;32mfor\u001b[0m \u001b[0my\u001b[0m \u001b[0;32min\u001b[0m \u001b[0mx\u001b[0m \u001b[0;32mif\u001b[0m \u001b[0mlen\u001b[0m\u001b[0;34m(\u001b[0m\u001b[0my\u001b[0m\u001b[0;34m)\u001b[0m \u001b[0;34m!=\u001b[0m \u001b[0;36m0\u001b[0m\u001b[0;34m]\u001b[0m\u001b[0;34m)\u001b[0m\u001b[0;34m\u001b[0m\u001b[0;34m\u001b[0m\u001b[0m\n\u001b[0m\u001b[1;32m     12\u001b[0m \u001b[0;34m\u001b[0m\u001b[0m\n\u001b[1;32m     13\u001b[0m   \u001b[0;31m# print(dataframe[newColumnName])\u001b[0m\u001b[0;34m\u001b[0m\u001b[0;34m\u001b[0m\u001b[0;34m\u001b[0m\u001b[0m\n",
            "\u001b[0;31mValueError\u001b[0m: invalid literal for int() with base 10: 'hiteCente'"
          ]
        }
      ]
    },
    {
      "cell_type": "code",
      "metadata": {
        "id": "8O1XN4Z_X3wD",
        "colab_type": "code",
        "outputId": "b3e54000-cdc5-4a46-d76a-900e1aff2676",
        "colab": {
          "base_uri": "https://localhost:8080/",
          "height": 441
        }
      },
      "source": [
        "complete_dataset[complete_dataset['Event']=='Event']"
      ],
      "execution_count": 0,
      "outputs": [
        {
          "output_type": "execute_result",
          "data": {
            "text/html": [
              "<div>\n",
              "<style scoped>\n",
              "    .dataframe tbody tr th:only-of-type {\n",
              "        vertical-align: middle;\n",
              "    }\n",
              "\n",
              "    .dataframe tbody tr th {\n",
              "        vertical-align: top;\n",
              "    }\n",
              "\n",
              "    .dataframe thead th {\n",
              "        text-align: right;\n",
              "    }\n",
              "</style>\n",
              "<table border=\"1\" class=\"dataframe\">\n",
              "  <thead>\n",
              "    <tr style=\"text-align: right;\">\n",
              "      <th></th>\n",
              "      <th>Event</th>\n",
              "      <th>Site</th>\n",
              "      <th>Date</th>\n",
              "      <th>Round</th>\n",
              "      <th>White</th>\n",
              "      <th>Black</th>\n",
              "      <th>Result</th>\n",
              "      <th>BlackElo</th>\n",
              "      <th>BlackRatingDiff</th>\n",
              "      <th>ECO</th>\n",
              "      <th>Opening</th>\n",
              "      <th>Termination</th>\n",
              "      <th>TimeControl</th>\n",
              "      <th>UTCDate</th>\n",
              "      <th>UTCTime</th>\n",
              "      <th>WhiteElo</th>\n",
              "      <th>WhiteRatingDiff</th>\n",
              "      <th>Moves</th>\n",
              "      <th>ZobristHash</th>\n",
              "      <th>EngineEvals</th>\n",
              "      <th>Comments</th>\n",
              "      <th>WhiteCenter</th>\n",
              "      <th>BlackCenter</th>\n",
              "      <th>WhiteDiag</th>\n",
              "      <th>BlackDiag</th>\n",
              "      <th>WhitePins</th>\n",
              "      <th>BlackPins</th>\n",
              "      <th>BlackMoves</th>\n",
              "    </tr>\n",
              "  </thead>\n",
              "  <tbody>\n",
              "    <tr>\n",
              "      <th>10000</th>\n",
              "      <td>Event</td>\n",
              "      <td>Site</td>\n",
              "      <td>Date</td>\n",
              "      <td>Round</td>\n",
              "      <td>White</td>\n",
              "      <td>Black</td>\n",
              "      <td>Result</td>\n",
              "      <td>BlackElo</td>\n",
              "      <td>BlackRatingDiff</td>\n",
              "      <td>ECO</td>\n",
              "      <td>Opening</td>\n",
              "      <td>Termination</td>\n",
              "      <td>TimeControl</td>\n",
              "      <td>UTCDate</td>\n",
              "      <td>UTCTime</td>\n",
              "      <td>WhiteElo</td>\n",
              "      <td>WhiteRatingDiff</td>\n",
              "      <td>Moves</td>\n",
              "      <td>ZobristHash</td>\n",
              "      <td>EngineEvals</td>\n",
              "      <td>Comments</td>\n",
              "      <td>WhiteCenter</td>\n",
              "      <td>BlackCenter</td>\n",
              "      <td>WhiteDiag</td>\n",
              "      <td>BlackDiag</td>\n",
              "      <td>WhitePins</td>\n",
              "      <td>BlackPins</td>\n",
              "      <td>[ove]</td>\n",
              "    </tr>\n",
              "    <tr>\n",
              "      <th>20001</th>\n",
              "      <td>Event</td>\n",
              "      <td>Site</td>\n",
              "      <td>Date</td>\n",
              "      <td>Round</td>\n",
              "      <td>White</td>\n",
              "      <td>Black</td>\n",
              "      <td>Result</td>\n",
              "      <td>BlackElo</td>\n",
              "      <td>BlackRatingDiff</td>\n",
              "      <td>ECO</td>\n",
              "      <td>Opening</td>\n",
              "      <td>Termination</td>\n",
              "      <td>TimeControl</td>\n",
              "      <td>UTCDate</td>\n",
              "      <td>UTCTime</td>\n",
              "      <td>WhiteElo</td>\n",
              "      <td>WhiteRatingDiff</td>\n",
              "      <td>Moves</td>\n",
              "      <td>ZobristHash</td>\n",
              "      <td>EngineEvals</td>\n",
              "      <td>Comments</td>\n",
              "      <td>WhiteCenter</td>\n",
              "      <td>BlackCenter</td>\n",
              "      <td>WhiteDiag</td>\n",
              "      <td>BlackDiag</td>\n",
              "      <td>WhitePins</td>\n",
              "      <td>BlackPins</td>\n",
              "      <td>[ove]</td>\n",
              "    </tr>\n",
              "    <tr>\n",
              "      <th>30002</th>\n",
              "      <td>Event</td>\n",
              "      <td>Site</td>\n",
              "      <td>Date</td>\n",
              "      <td>Round</td>\n",
              "      <td>White</td>\n",
              "      <td>Black</td>\n",
              "      <td>Result</td>\n",
              "      <td>BlackElo</td>\n",
              "      <td>BlackRatingDiff</td>\n",
              "      <td>ECO</td>\n",
              "      <td>Opening</td>\n",
              "      <td>Termination</td>\n",
              "      <td>TimeControl</td>\n",
              "      <td>UTCDate</td>\n",
              "      <td>UTCTime</td>\n",
              "      <td>WhiteElo</td>\n",
              "      <td>WhiteRatingDiff</td>\n",
              "      <td>Moves</td>\n",
              "      <td>ZobristHash</td>\n",
              "      <td>EngineEvals</td>\n",
              "      <td>Comments</td>\n",
              "      <td>WhiteCenter</td>\n",
              "      <td>BlackCenter</td>\n",
              "      <td>WhiteDiag</td>\n",
              "      <td>BlackDiag</td>\n",
              "      <td>WhitePins</td>\n",
              "      <td>BlackPins</td>\n",
              "      <td>[ove]</td>\n",
              "    </tr>\n",
              "    <tr>\n",
              "      <th>40003</th>\n",
              "      <td>Event</td>\n",
              "      <td>Site</td>\n",
              "      <td>Date</td>\n",
              "      <td>Round</td>\n",
              "      <td>White</td>\n",
              "      <td>Black</td>\n",
              "      <td>Result</td>\n",
              "      <td>BlackElo</td>\n",
              "      <td>BlackRatingDiff</td>\n",
              "      <td>ECO</td>\n",
              "      <td>Opening</td>\n",
              "      <td>Termination</td>\n",
              "      <td>TimeControl</td>\n",
              "      <td>UTCDate</td>\n",
              "      <td>UTCTime</td>\n",
              "      <td>WhiteElo</td>\n",
              "      <td>WhiteRatingDiff</td>\n",
              "      <td>Moves</td>\n",
              "      <td>ZobristHash</td>\n",
              "      <td>EngineEvals</td>\n",
              "      <td>Comments</td>\n",
              "      <td>WhiteCenter</td>\n",
              "      <td>BlackCenter</td>\n",
              "      <td>WhiteDiag</td>\n",
              "      <td>BlackDiag</td>\n",
              "      <td>WhitePins</td>\n",
              "      <td>BlackPins</td>\n",
              "      <td>[ove]</td>\n",
              "    </tr>\n",
              "    <tr>\n",
              "      <th>43965</th>\n",
              "      <td>Event</td>\n",
              "      <td>Site</td>\n",
              "      <td>Date</td>\n",
              "      <td>Round</td>\n",
              "      <td>White</td>\n",
              "      <td>Black</td>\n",
              "      <td>Result</td>\n",
              "      <td>BlackElo</td>\n",
              "      <td>BlackRatingDiff</td>\n",
              "      <td>ECO</td>\n",
              "      <td>Opening</td>\n",
              "      <td>Termination</td>\n",
              "      <td>TimeControl</td>\n",
              "      <td>UTCDate</td>\n",
              "      <td>UTCTime</td>\n",
              "      <td>WhiteElo</td>\n",
              "      <td>WhiteRatingDiff</td>\n",
              "      <td>Moves</td>\n",
              "      <td>ZobristHash</td>\n",
              "      <td>EngineEvals</td>\n",
              "      <td>Comments</td>\n",
              "      <td>WhiteCenter</td>\n",
              "      <td>BlackCenter</td>\n",
              "      <td>WhiteDiag</td>\n",
              "      <td>BlackDiag</td>\n",
              "      <td>WhitePins</td>\n",
              "      <td>BlackPins</td>\n",
              "      <td>[ove]</td>\n",
              "    </tr>\n",
              "    <tr>\n",
              "      <th>53966</th>\n",
              "      <td>Event</td>\n",
              "      <td>Site</td>\n",
              "      <td>Date</td>\n",
              "      <td>Round</td>\n",
              "      <td>White</td>\n",
              "      <td>Black</td>\n",
              "      <td>Result</td>\n",
              "      <td>BlackElo</td>\n",
              "      <td>BlackRatingDiff</td>\n",
              "      <td>ECO</td>\n",
              "      <td>Opening</td>\n",
              "      <td>Termination</td>\n",
              "      <td>TimeControl</td>\n",
              "      <td>UTCDate</td>\n",
              "      <td>UTCTime</td>\n",
              "      <td>WhiteElo</td>\n",
              "      <td>WhiteRatingDiff</td>\n",
              "      <td>Moves</td>\n",
              "      <td>ZobristHash</td>\n",
              "      <td>EngineEvals</td>\n",
              "      <td>Comments</td>\n",
              "      <td>WhiteCenter</td>\n",
              "      <td>BlackCenter</td>\n",
              "      <td>WhiteDiag</td>\n",
              "      <td>BlackDiag</td>\n",
              "      <td>WhitePins</td>\n",
              "      <td>BlackPins</td>\n",
              "      <td>[ove]</td>\n",
              "    </tr>\n",
              "    <tr>\n",
              "      <th>63967</th>\n",
              "      <td>Event</td>\n",
              "      <td>Site</td>\n",
              "      <td>Date</td>\n",
              "      <td>Round</td>\n",
              "      <td>White</td>\n",
              "      <td>Black</td>\n",
              "      <td>Result</td>\n",
              "      <td>BlackElo</td>\n",
              "      <td>BlackRatingDiff</td>\n",
              "      <td>ECO</td>\n",
              "      <td>Opening</td>\n",
              "      <td>Termination</td>\n",
              "      <td>TimeControl</td>\n",
              "      <td>UTCDate</td>\n",
              "      <td>UTCTime</td>\n",
              "      <td>WhiteElo</td>\n",
              "      <td>WhiteRatingDiff</td>\n",
              "      <td>Moves</td>\n",
              "      <td>ZobristHash</td>\n",
              "      <td>EngineEvals</td>\n",
              "      <td>Comments</td>\n",
              "      <td>WhiteCenter</td>\n",
              "      <td>BlackCenter</td>\n",
              "      <td>WhiteDiag</td>\n",
              "      <td>BlackDiag</td>\n",
              "      <td>WhitePins</td>\n",
              "      <td>BlackPins</td>\n",
              "      <td>[ove]</td>\n",
              "    </tr>\n",
              "    <tr>\n",
              "      <th>73968</th>\n",
              "      <td>Event</td>\n",
              "      <td>Site</td>\n",
              "      <td>Date</td>\n",
              "      <td>Round</td>\n",
              "      <td>White</td>\n",
              "      <td>Black</td>\n",
              "      <td>Result</td>\n",
              "      <td>BlackElo</td>\n",
              "      <td>BlackRatingDiff</td>\n",
              "      <td>ECO</td>\n",
              "      <td>Opening</td>\n",
              "      <td>Termination</td>\n",
              "      <td>TimeControl</td>\n",
              "      <td>UTCDate</td>\n",
              "      <td>UTCTime</td>\n",
              "      <td>WhiteElo</td>\n",
              "      <td>WhiteRatingDiff</td>\n",
              "      <td>Moves</td>\n",
              "      <td>ZobristHash</td>\n",
              "      <td>EngineEvals</td>\n",
              "      <td>Comments</td>\n",
              "      <td>WhiteCenter</td>\n",
              "      <td>BlackCenter</td>\n",
              "      <td>WhiteDiag</td>\n",
              "      <td>BlackDiag</td>\n",
              "      <td>WhitePins</td>\n",
              "      <td>BlackPins</td>\n",
              "      <td>[ove]</td>\n",
              "    </tr>\n",
              "    <tr>\n",
              "      <th>83969</th>\n",
              "      <td>Event</td>\n",
              "      <td>Site</td>\n",
              "      <td>Date</td>\n",
              "      <td>Round</td>\n",
              "      <td>White</td>\n",
              "      <td>Black</td>\n",
              "      <td>Result</td>\n",
              "      <td>BlackElo</td>\n",
              "      <td>BlackRatingDiff</td>\n",
              "      <td>ECO</td>\n",
              "      <td>Opening</td>\n",
              "      <td>Termination</td>\n",
              "      <td>TimeControl</td>\n",
              "      <td>UTCDate</td>\n",
              "      <td>UTCTime</td>\n",
              "      <td>WhiteElo</td>\n",
              "      <td>WhiteRatingDiff</td>\n",
              "      <td>Moves</td>\n",
              "      <td>ZobristHash</td>\n",
              "      <td>EngineEvals</td>\n",
              "      <td>Comments</td>\n",
              "      <td>WhiteCenter</td>\n",
              "      <td>BlackCenter</td>\n",
              "      <td>WhiteDiag</td>\n",
              "      <td>BlackDiag</td>\n",
              "      <td>WhitePins</td>\n",
              "      <td>BlackPins</td>\n",
              "      <td>[ove]</td>\n",
              "    </tr>\n",
              "    <tr>\n",
              "      <th>93970</th>\n",
              "      <td>Event</td>\n",
              "      <td>Site</td>\n",
              "      <td>Date</td>\n",
              "      <td>Round</td>\n",
              "      <td>White</td>\n",
              "      <td>Black</td>\n",
              "      <td>Result</td>\n",
              "      <td>BlackElo</td>\n",
              "      <td>BlackRatingDiff</td>\n",
              "      <td>ECO</td>\n",
              "      <td>Opening</td>\n",
              "      <td>Termination</td>\n",
              "      <td>TimeControl</td>\n",
              "      <td>UTCDate</td>\n",
              "      <td>UTCTime</td>\n",
              "      <td>WhiteElo</td>\n",
              "      <td>WhiteRatingDiff</td>\n",
              "      <td>Moves</td>\n",
              "      <td>ZobristHash</td>\n",
              "      <td>EngineEvals</td>\n",
              "      <td>Comments</td>\n",
              "      <td>WhiteCenter</td>\n",
              "      <td>BlackCenter</td>\n",
              "      <td>WhiteDiag</td>\n",
              "      <td>BlackDiag</td>\n",
              "      <td>WhitePins</td>\n",
              "      <td>BlackPins</td>\n",
              "      <td>[ove]</td>\n",
              "    </tr>\n",
              "    <tr>\n",
              "      <th>103971</th>\n",
              "      <td>Event</td>\n",
              "      <td>Site</td>\n",
              "      <td>Date</td>\n",
              "      <td>Round</td>\n",
              "      <td>White</td>\n",
              "      <td>Black</td>\n",
              "      <td>Result</td>\n",
              "      <td>BlackElo</td>\n",
              "      <td>BlackRatingDiff</td>\n",
              "      <td>ECO</td>\n",
              "      <td>Opening</td>\n",
              "      <td>Termination</td>\n",
              "      <td>TimeControl</td>\n",
              "      <td>UTCDate</td>\n",
              "      <td>UTCTime</td>\n",
              "      <td>WhiteElo</td>\n",
              "      <td>WhiteRatingDiff</td>\n",
              "      <td>Moves</td>\n",
              "      <td>ZobristHash</td>\n",
              "      <td>EngineEvals</td>\n",
              "      <td>Comments</td>\n",
              "      <td>WhiteCenter</td>\n",
              "      <td>BlackCenter</td>\n",
              "      <td>WhiteDiag</td>\n",
              "      <td>BlackDiag</td>\n",
              "      <td>WhitePins</td>\n",
              "      <td>BlackPins</td>\n",
              "      <td>[ove]</td>\n",
              "    </tr>\n",
              "    <tr>\n",
              "      <th>113972</th>\n",
              "      <td>Event</td>\n",
              "      <td>Site</td>\n",
              "      <td>Date</td>\n",
              "      <td>Round</td>\n",
              "      <td>White</td>\n",
              "      <td>Black</td>\n",
              "      <td>Result</td>\n",
              "      <td>BlackElo</td>\n",
              "      <td>BlackRatingDiff</td>\n",
              "      <td>ECO</td>\n",
              "      <td>Opening</td>\n",
              "      <td>Termination</td>\n",
              "      <td>TimeControl</td>\n",
              "      <td>UTCDate</td>\n",
              "      <td>UTCTime</td>\n",
              "      <td>WhiteElo</td>\n",
              "      <td>WhiteRatingDiff</td>\n",
              "      <td>Moves</td>\n",
              "      <td>ZobristHash</td>\n",
              "      <td>EngineEvals</td>\n",
              "      <td>Comments</td>\n",
              "      <td>WhiteCenter</td>\n",
              "      <td>BlackCenter</td>\n",
              "      <td>WhiteDiag</td>\n",
              "      <td>BlackDiag</td>\n",
              "      <td>WhitePins</td>\n",
              "      <td>BlackPins</td>\n",
              "      <td>[ove]</td>\n",
              "    </tr>\n",
              "  </tbody>\n",
              "</table>\n",
              "</div>"
            ],
            "text/plain": [
              "        Event  Site  Date  Round  ...  BlackDiag  WhitePins  BlackPins BlackMoves\n",
              "10000   Event  Site  Date  Round  ...  BlackDiag  WhitePins  BlackPins      [ove]\n",
              "20001   Event  Site  Date  Round  ...  BlackDiag  WhitePins  BlackPins      [ove]\n",
              "30002   Event  Site  Date  Round  ...  BlackDiag  WhitePins  BlackPins      [ove]\n",
              "40003   Event  Site  Date  Round  ...  BlackDiag  WhitePins  BlackPins      [ove]\n",
              "43965   Event  Site  Date  Round  ...  BlackDiag  WhitePins  BlackPins      [ove]\n",
              "53966   Event  Site  Date  Round  ...  BlackDiag  WhitePins  BlackPins      [ove]\n",
              "63967   Event  Site  Date  Round  ...  BlackDiag  WhitePins  BlackPins      [ove]\n",
              "73968   Event  Site  Date  Round  ...  BlackDiag  WhitePins  BlackPins      [ove]\n",
              "83969   Event  Site  Date  Round  ...  BlackDiag  WhitePins  BlackPins      [ove]\n",
              "93970   Event  Site  Date  Round  ...  BlackDiag  WhitePins  BlackPins      [ove]\n",
              "103971  Event  Site  Date  Round  ...  BlackDiag  WhitePins  BlackPins      [ove]\n",
              "113972  Event  Site  Date  Round  ...  BlackDiag  WhitePins  BlackPins      [ove]\n",
              "\n",
              "[12 rows x 28 columns]"
            ]
          },
          "metadata": {
            "tags": []
          },
          "execution_count": 359
        }
      ]
    },
    {
      "cell_type": "code",
      "metadata": {
        "id": "ZXB6f23ya3K9",
        "colab_type": "code",
        "outputId": "dfcadf4b-ecda-453e-a00d-6eab0517c008",
        "colab": {
          "base_uri": "https://localhost:8080/",
          "height": 306
        }
      },
      "source": [
        "train.columns"
      ],
      "execution_count": 0,
      "outputs": [
        {
          "output_type": "execute_result",
          "data": {
            "text/plain": [
              "Index(['Event', 'OpponentBlunder', 'OpponentCaptures', 'OpponentCastling',\n",
              "       'OpponentCheckMate', 'OpponentChecks', 'OpponentElo',\n",
              "       'OpponentPoorMove', 'OpponentPromote', 'OpponentPromoteQueen',\n",
              "       'OpponentQuestionableMoves', 'Opponent_End_Center',\n",
              "       'Opponent_Mid_Center', 'Opponent_Open_Center', 'PlayerBlunder',\n",
              "       'PlayerCaptures', 'PlayerCastling', 'PlayerCheckMate', 'PlayerChecks',\n",
              "       'PlayerMoves', 'Player_Open_Diag', 'Player_Mid_Diag', 'Player_End_Diag',\n",
              "       'Player_Open_Pins', 'Player_Mid_Pins', 'Player_End_Pins',\n",
              "       'Opponent_Open_Pins', 'Opponent_Mid_Pins', 'Opponent_End_Pins',\n",
              "       'Opponent_Open_Diag', 'Opponent_Mid_Diag', 'Opponent_End_Diag',\n",
              "       'PlayerPoorMove', 'PlayerPromote', 'PlayerPromoteQueen',\n",
              "       'PlayerQuestionableMoves', 'Player_End_Center', 'Player_Mid_Center',\n",
              "       'Player_Open_Center', 'Result', 'isWhite', 'Q_Moves_Num', 'B_Moves_Num',\n",
              "       'N_Moves_Num', 'R_Moves_Num', 'K_Moves_Num', 'Total_Moves',\n",
              "       'Q_Moves_First', 'B_Moves_First', 'N_Moves_First', 'R_Moves_First',\n",
              "       'K_Moves_First'],\n",
              "      dtype='object')"
            ]
          },
          "metadata": {
            "tags": []
          },
          "execution_count": 372
        }
      ]
    },
    {
      "cell_type": "code",
      "metadata": {
        "id": "F61Z49UBneJx",
        "colab_type": "code",
        "outputId": "dd28136d-3736-4cf0-a4e8-2c2891a20de0",
        "colab": {
          "base_uri": "https://localhost:8080/",
          "height": 204
        }
      },
      "source": [
        "complete_dataset['EngineEvals'].head(10)"
      ],
      "execution_count": 0,
      "outputs": [
        {
          "output_type": "execute_result",
          "data": {
            "text/plain": [
              "0    ['+89', '-18', '+76', '-36', '+156', '-130', '...\n",
              "1    ['+80', '-73', '+141', '-52', '+115', '-24', '...\n",
              "2                                ['+83', '+50', '+77']\n",
              "3    ['+94', '-56', '+94', '-18', '+107', '-62', '+...\n",
              "4    ['+85', '-60', '+101', '-63', '+108', '-97', '...\n",
              "5    ['+100', '-16', '+65', '-28', '+157', '-103', ...\n",
              "6    ['+102', '-36', '+86', '+101', '-34', '+105', ...\n",
              "7    ['+61', '-47', '+90', '+64', '+24', '+82', '+3...\n",
              "8    ['+55', '+92', '-56', '+92', '+54', '+41', '+1...\n",
              "9    ['+69', '+47', '+50', '+73', '+65', '+81', '+3...\n",
              "Name: EngineEvals, dtype: object"
            ]
          },
          "metadata": {
            "tags": []
          },
          "execution_count": 383
        }
      ]
    },
    {
      "cell_type": "markdown",
      "metadata": {
        "id": "T3HdQtzT4t8H",
        "colab_type": "text"
      },
      "source": [
        ""
      ]
    },
    {
      "cell_type": "code",
      "metadata": {
        "id": "7nt9lbV94uLx",
        "colab_type": "code",
        "outputId": "a58ef49a-aa46-463e-d012-58b64f4f24eb",
        "colab": {
          "base_uri": "https://localhost:8080/",
          "height": 34
        }
      },
      "source": [
        "!python --version"
      ],
      "execution_count": 0,
      "outputs": [
        {
          "output_type": "stream",
          "text": [
            "Python 3.6.9\n"
          ],
          "name": "stdout"
        }
      ]
    },
    {
      "cell_type": "code",
      "metadata": {
        "id": "XM31Xl4YtV7C",
        "colab_type": "code",
        "colab": {}
      },
      "source": [
        "import math\n",
        "from scipy.stats import norm  \n",
        "\n",
        "def get_diff(moves):\n",
        "\tprint(moves)\n",
        "\tgains = [(moves[j+1] - moves[j]) if j%2 == 1 else -(moves[j+1] - moves[j]) for j in range(len(moves) - 1)]\n",
        "\tgains.insert(0, moves[0])\n",
        "\tprint(\"Gains:\",gains)\n",
        "\twhite_gains = [gain for i, gain in enumerate(gains) if (i%2)==0]\n",
        "\tblack_gains = [gain for i, gain in enumerate(gains) if (i%2)==1]\n",
        "\tprint(white_gains, black_gains)\n",
        "\twhite_hist, white_bins = np.histogram(white_gains, bins=20, range=(-100,100))\n",
        "\tblack_hist, black_bins = np.histogram(black_gains, bins=20, range=(-100,100))\n",
        "\tprint(white_hist, black_hist)\n",
        "\tp = 0.5 * (white_hist[0] * black_hist[0]) + sum([white_hist[i] * black_hist[i] for i in range(1, len(white_hist))])\n",
        "\tprint(p)\n",
        "\td = 200 * math.pow(2, 0.5) * norm.cdf(p)\n",
        "\treturn d"
      ],
      "execution_count": 0,
      "outputs": []
    },
    {
      "cell_type": "code",
      "metadata": {
        "id": "dK391mjOvL62",
        "colab_type": "code",
        "outputId": "67591862-f82f-49ac-ce2a-87adedb3096e",
        "colab": {
          "base_uri": "https://localhost:8080/",
          "height": 119
        }
      },
      "source": [
        "a = pd.DataFrame(complete_dataset['EngineEvals'].head(401).tail(1))\n",
        "\n",
        "a.columns = ['EngineEvals']\n",
        "a['EngineEvals'] = a['EngineEvals'].str[1:]\n",
        "a['EngineEvals'] = a['EngineEvals'].str[:-1]\n",
        "a['EngineEvals'] = a['EngineEvals'].str.split(', ')\n",
        "\n",
        "a.loc[:, 'EngineEvals'] = a.EngineEvals.map(lambda x: [int(xi[1:-1]) if xi[1] == '+' else int(xi[1:-1]) for xi in x if xi[1] != '#'])\n",
        "\n",
        "\n",
        "get_diff(a['EngineEvals'].to_numpy()[0])"
      ],
      "execution_count": 0,
      "outputs": [
        {
          "output_type": "stream",
          "text": [
            "[61, -43, 60, -21, 30, -11, 177, -48, 168, -57, 128, -93, 175, -115, 386, -199, 176, 7, 100, 65, -51, 137, 131, 31, 42, 165, 444, -513, 642]\n",
            "[61, 104, 103, 81, 51, 41, 188, 225, 216, 225, 185, 221, 268, 290, 501, 585, 375, 169, 93, 35, -116, -188, -6, 100, 11, -123, 279, 957, 1155]\n",
            "[61, 103, 51, 188, 216, 185, 268, 501, 375, 93, -116, -6, 11, 279, 1155] [104, 81, 41, 225, 225, 221, 290, 585, 169, 35, -188, 100, -123, 957]\n",
            "[0 0 0 0 0 0 0 0 0 1 0 1 0 0 0 1 1 0 0 1] [0 0 0 0 0 0 0 0 0 0 0 0 0 1 1 0 0 0 1 1]\n",
            "1.0\n"
          ],
          "name": "stdout"
        },
        {
          "output_type": "execute_result",
          "data": {
            "text/plain": [
              "237.96823010429623"
            ]
          },
          "metadata": {
            "tags": []
          },
          "execution_count": 509
        }
      ]
    },
    {
      "cell_type": "code",
      "metadata": {
        "id": "VvM17gn7xZvH",
        "colab_type": "code",
        "outputId": "ee64603f-fa8c-4f65-f03a-6c1bd21c44aa",
        "colab": {
          "base_uri": "https://localhost:8080/",
          "height": 34
        }
      },
      "source": [
        "print(type(a))"
      ],
      "execution_count": 0,
      "outputs": [
        {
          "output_type": "stream",
          "text": [
            "<class 'pandas.core.frame.DataFrame'>\n"
          ],
          "name": "stdout"
        }
      ]
    },
    {
      "cell_type": "code",
      "metadata": {
        "id": "gA7kSjhjCFzY",
        "colab_type": "code",
        "colab": {}
      },
      "source": [
        "  a = pd.DataFrame(complete_dataset['EngineEvals'])\n",
        "  a.columns = ['EngineEvals']\n",
        "  a['EngineEvals'] = a['EngineEvals'].str[1:]\n",
        "  a['EngineEvals'] = a['EngineEvals'].str[:-1]\n",
        "  a['EngineEvals'] = a['EngineEvals'].str.split(', ')\n",
        "  a.loc[:, 'EngineEvals'] = a.EngineEvals.map(lambda x: [int(xi[1:-1]) if xi[1] == '+' else int(xi[1:-1]) for xi in x if xi[1] != '#'])\n",
        "  complete_dataset['EngineEvals']=a['EngineEvals']\n",
        "  complete_dataset['BlackMoves']=complete_dataset['EngineEvals']\t\n",
        "  \n",
        "  gains = [(moves[j+1] - moves[j]) if j%2 == 1 else -(moves[j+1] - moves[j]) for j in range(len(moves) - 1)]  \n",
        "  complete_dataset['BlackMoves'] = complete_dataset['BlackMoves'].str[1:]\n",
        "  complete_dataset['BlackMoves'] = complete_dataset['BlackMoves'].str[:-1]\n",
        "  complete_dataset['BlackMoves']=complete_dataset['BlackMoves'].str.split(', ')\n"
      ],
      "execution_count": 0,
      "outputs": []
    },
    {
      "cell_type": "code",
      "metadata": {
        "id": "jn8bk2WCCHID",
        "colab_type": "code",
        "colab": {}
      },
      "source": [
        "complete_dataset_sample = complete_dataset.head(401).tail(10)"
      ],
      "execution_count": 0,
      "outputs": []
    },
    {
      "cell_type": "code",
      "metadata": {
        "id": "ZNhiB6wxvOnS",
        "colab_type": "code",
        "outputId": "c1eafc5a-f33a-4e0c-8beb-7fd802690511",
        "colab": {
          "base_uri": "https://localhost:8080/",
          "height": 241
        }
      },
      "source": [
        "a = pd.DataFrame(complete_dataset['EngineEvals'].head(401).tail(10))\n",
        "a.columns = ['EngineEvals']\n",
        "a['EngineEvals'] = a['EngineEvals'].str[1:]\n",
        "a['EngineEvals'] = a['EngineEvals'].str[:-1]\n",
        "a['EngineEvals'] = a['EngineEvals'].str.split(', ')\n",
        "\n",
        "a.loc[:, 'EngineEvals'] = a.EngineEvals.map(lambda x: [int(xi[1:-1]) if xi[1] == '+' else int(xi[1:-1]) for xi in x if xi[1] != '#'])\n",
        "\n",
        "print(a)\n",
        "a=a['EngineEvals'].to_numpy()[1]\n",
        "print(\"Moves:\",a)\n",
        "moves =a \n",
        "gains = [(moves[j+1] - moves[j]) if j%2 == 1 else -(moves[j+1] - moves[j]) for j in range(len(moves) - 1)]\n",
        "gains.insert(0, moves[0])\n",
        "print(\"Gains:\",gains)\n",
        "white_gains = [gain for i, gain in enumerate(gains) if (i%2)==0]\n",
        "black_gains = [gain for i, gain in enumerate(gains) if (i%2)==1]\n",
        "\n",
        "\n",
        "# print(\"White Gains:\",white_gains)\n",
        "# print(\"Black Gains:\",black_gains)\n"
      ],
      "execution_count": 0,
      "outputs": [
        {
          "output_type": "stream",
          "text": [
            "                                           EngineEvals\n",
            "391  [118, -48, 80, 45, 12, 76, -29, 92, -68, 129, ...\n",
            "392  [80, -35, 105, -27, 63, 26, -8, 417, -391, 492...\n",
            "393  [75, -23, 94, 39, 3, 85, -122, 175, -80, 152, ...\n",
            "394  [64, 20, 218, 2, 55, -41, 88, -25, 51, -41, 16...\n",
            "395  [73, 105, 74, 126, -87, 70, -16, 107, 9, 97, 3...\n",
            "396  [37, -37, 111, -48, 123, 25, 157, 169, 93, -18...\n",
            "397  [50, -46, 95, 0, 62, 58, 25, 38, 94, -25, 72, ...\n",
            "398  [50, -48, 128, -41, 120, -88, 137, -130, 147, ...\n",
            "399  [80, -27, 51, -21, 52, 65, -7, 48, 33, -16, 65...\n",
            "400  [61, -43, 60, -21, 30, -11, 177, -48, 168, -57...\n",
            "Moves: [80, -35, 105, -27, 63, 26, -8, 417, -391, 492, -424, 704, -568, 994, -952, 1074, -949, 1006, -934, 1000, -929, 980, -948, 965, -936, 1034, -988, 1054, -922, 964, -897, 1128, -978, 968, -663, 880, -312, 413, 304, -317, 426, -491, 786, -156, 806, -777, 870, -744, 912, -791, 862, -880, 960, -695, 821, -711, 813, -744, 833, -744, 897, -853, 1034, -720, 862, -766, 862, -704, 792, -777, 807, -746, 830, -563, 735, -601, 687, -638, 766, -638, 686, -679, 686, -592, 689, -600, 719, -526, 770, -537, 701, -590, 682, -470, 610, -604, 439, -498, 498, -406, 502, -268, 414, -259, 323, -299, 381, -328, 396, -342, 458, -31, 74, -15, 37, -11, 11, -2, 23, 0, 50, 0, 0, 0, 54, 0, 0, 62, 0, 0, 0, 49, 30, -9, 9, -9, 24, 0, -45, 77, 9, 70, -9, 199, 9, 0, -6, 122, -7, 204, -201, 201, 0, 295, 48, 394, -429, 758, -361, 804, -1012, 1144, -432, 7511, -5609, 5609, -5609, 5609, -5609, 6214, -7301, 7301, -7297, 7297, -8498, 8512, -8498]\n"
          ],
          "name": "stdout"
        }
      ]
    },
    {
      "cell_type": "code",
      "metadata": {
        "id": "wfLhqS2m--yh",
        "colab_type": "code",
        "colab": {}
      },
      "source": [
        "\n",
        "complete_dataset_sample.loc[:, 'EngineEvals'] = complete_dataset_sample.EngineEvals.map(lambda x: [int(xi[1:-1]) if xi[1] == '+' else int(xi[1:-1]) for xi in x if xi[1] != '#'])\n",
        "\n",
        "a = pd.DataFrame(complete_dataset['EngineEvals'].head(401).tail(10))\n",
        "a.columns = ['EngineEvals']\n",
        "a['EngineEvals'] = a['EngineEvals'].str[1:]\n",
        "a['EngineEvals'] = a['EngineEvals'].str[:-1]\n",
        "a['EngineEvals'] = a['EngineEvals'].str.split(', ')\n",
        "\n",
        "a.loc[:, 'EngineEvals'] = a.EngineEvals.map(lambda x: [int(xi[1:-1]) if xi[1] == '+' else int(xi[1:-1]) for xi in x if xi[1] != '#'])\n",
        "\n",
        "print(a)\n",
        "a=a['EngineEvals'].to_numpy()[1]\n",
        "print(\"Moves:\",a)\n",
        "moves =a \n",
        "gains = [(moves[j+1] - moves[j]) if j%2 == 1 else -(moves[j+1] - moves[j]) for j in range(len(moves) - 1)]\n",
        "gains.insert(0, moves[0])\n",
        "# print(\"Gains:\",gains)\n",
        "white_gains = [gain for i, gain in enumerate(gains) if (i%2)==0]\n",
        "black_gains = [gain for i, gain in enumerate(gains) if (i%2)==1]\n",
        "\n",
        "\n",
        "# print(\"White Gains:\",white_gains)\n",
        "# print(\"Black Gains:\",black_gains)\n"
      ],
      "execution_count": 0,
      "outputs": []
    },
    {
      "cell_type": "code",
      "metadata": {
        "id": "fVebJGttCngK",
        "colab_type": "code",
        "colab": {}
      },
      "source": [
        "complete_dataset_sample['EngineEvals'] = complete_dataset_sample['EngineEvals'].str[1:]\n",
        "complete_dataset_sample['EngineEvals'] = complete_dataset_sample['EngineEvals'].str[:-1]\n",
        "complete_dataset_sample['EngineEvals'] = complete_dataset_sample['EngineEvals'].str.split(', ')\n",
        "\n",
        "complete_dataset_sample.loc[:, 'EngineEvals'] = complete_dataset_sample.EngineEvals.map(lambda x: [int(xi[1:-1]) if xi[1] == '+' else int(xi[1:-1]) for xi in x if xi[1] != '#'])"
      ],
      "execution_count": 0,
      "outputs": []
    },
    {
      "cell_type": "code",
      "metadata": {
        "id": "Uxy6hlIeCpFV",
        "colab_type": "code",
        "outputId": "cd342a70-9941-4336-f72b-88c84c6783b2",
        "colab": {
          "base_uri": "https://localhost:8080/",
          "height": 102
        }
      },
      "source": [
        "complete_dataset_sample.EngineEvals.head(4)"
      ],
      "execution_count": 0,
      "outputs": [
        {
          "output_type": "execute_result",
          "data": {
            "text/plain": [
              "391    [118, -48, 80, 45, 12, 76, -29, 92, -68, 129, ...\n",
              "392    [80, -35, 105, -27, 63, 26, -8, 417, -391, 492...\n",
              "393    [75, -23, 94, 39, 3, 85, -122, 175, -80, 152, ...\n",
              "394    [64, 20, 218, 2, 55, -41, 88, -25, 51, -41, 16...\n",
              "Name: EngineEvals, dtype: object"
            ]
          },
          "metadata": {
            "tags": []
          },
          "execution_count": 533
        }
      ]
    },
    {
      "cell_type": "code",
      "metadata": {
        "id": "jEhJKmKDCq_3",
        "colab_type": "code",
        "colab": {}
      },
      "source": [
        "gains = [(moves[j+1] - moves[j]) if j%2 == 1 else -(moves[j+1] - moves[j]) for j in range(len(moves) - 1)]"
      ],
      "execution_count": 0,
      "outputs": []
    },
    {
      "cell_type": "code",
      "metadata": {
        "id": "FS2BAF25DZou",
        "colab_type": "code",
        "colab": {}
      },
      "source": [
        "complete_dataset_sample['Gains'] = complete_dataset_sample['EngineEvals']"
      ],
      "execution_count": 0,
      "outputs": []
    },
    {
      "cell_type": "code",
      "metadata": {
        "id": "1fEYFq4iD1YX",
        "colab_type": "code",
        "colab": {}
      },
      "source": [
        "complete_dataset_sample.loc[:, 'Gains']=complete_dataset_sample.Gains.map(lambda x : get_gains(x))"
      ],
      "execution_count": 0,
      "outputs": []
    },
    {
      "cell_type": "code",
      "metadata": {
        "id": "BetAWFjrEAau",
        "colab_type": "code",
        "outputId": "7e70272c-e702-4604-8303-7736a8decfcf",
        "colab": {
          "base_uri": "https://localhost:8080/",
          "height": 80
        }
      },
      "source": [
        "complete_dataset_sample[['EngineEvals','Gains']].head(1)"
      ],
      "execution_count": 0,
      "outputs": [
        {
          "output_type": "execute_result",
          "data": {
            "text/html": [
              "<div>\n",
              "<style scoped>\n",
              "    .dataframe tbody tr th:only-of-type {\n",
              "        vertical-align: middle;\n",
              "    }\n",
              "\n",
              "    .dataframe tbody tr th {\n",
              "        vertical-align: top;\n",
              "    }\n",
              "\n",
              "    .dataframe thead th {\n",
              "        text-align: right;\n",
              "    }\n",
              "</style>\n",
              "<table border=\"1\" class=\"dataframe\">\n",
              "  <thead>\n",
              "    <tr style=\"text-align: right;\">\n",
              "      <th></th>\n",
              "      <th>EngineEvals</th>\n",
              "      <th>Gains</th>\n",
              "    </tr>\n",
              "  </thead>\n",
              "  <tbody>\n",
              "    <tr>\n",
              "      <th>391</th>\n",
              "      <td>[118, -48, 80, 45, 12, 76, -29, 92, -68, 129, ...</td>\n",
              "      <td>[118, 166, 128, 35, -33, -64, -105, -121, -160...</td>\n",
              "    </tr>\n",
              "  </tbody>\n",
              "</table>\n",
              "</div>"
            ],
            "text/plain": [
              "                                           EngineEvals                                              Gains\n",
              "391  [118, -48, 80, 45, 12, 76, -29, 92, -68, 129, ...  [118, 166, 128, 35, -33, -64, -105, -121, -160..."
            ]
          },
          "metadata": {
            "tags": []
          },
          "execution_count": 546
        }
      ]
    },
    {
      "cell_type": "code",
      "metadata": {
        "id": "pY8Ot3W7EIbQ",
        "colab_type": "code",
        "colab": {}
      },
      "source": [
        "# get_diff(complete_dataset.EngineEvals[0])\n",
        "\n",
        "\n",
        "a = pd.DataFrame(complete_dataset_sample['EngineEvals'].head(1))\n",
        "a.columns = ['EngineEvals']\n",
        "a['EngineEvals'] = a['EngineEvals'].str[1:]\n",
        "a['EngineEvals'] = a['EngineEvals'].str[:-1]\n",
        "a['EngineEvals'] = a['EngineEvals'].str.split(', ')\n",
        "\n",
        "a.loc[:, 'EngineEvals'] = a.EngineEvals.map(lambda x: [int(xi[1:-1]) if xi[1] == '+' else int(xi[1:-1]) for xi in x if xi[1] != '#'])\n",
        "\n",
        "print(\"A:\",a)\n",
        "a=a['EngineEvals'].to_numpy()[1]\n",
        "print(get_diff(a))"
      ],
      "execution_count": 0,
      "outputs": []
    },
    {
      "cell_type": "code",
      "metadata": {
        "id": "OudNvuv6EUIB",
        "colab_type": "code",
        "colab": {}
      },
      "source": [
        "complete_dataset_sample['WhiteGains'] = complete_dataset_sample['Gains']\n",
        "complete_dataset_sample['BlackGains'] = complete_dataset_sample['Gains']\n",
        "complete_dataset_sample.loc[:, 'WhiteGains'] = complete_dataset_sample.WhiteGains.map(lambda x: x[0::2])\n",
        "complete_dataset_sample.loc[:, 'BlackGains'] = complete_dataset_sample.BlackGains.map(lambda x: x[1::2])"
      ],
      "execution_count": 0,
      "outputs": []
    },
    {
      "cell_type": "code",
      "metadata": {
        "id": "fM4Mus9QGHvW",
        "colab_type": "code",
        "outputId": "73ba658d-5be9-42b9-f52b-c80faa6b4516",
        "colab": {
          "base_uri": "https://localhost:8080/",
          "height": 80
        }
      },
      "source": [
        "complete_dataset_sample[['Gains', 'WhiteGains', 'BlackGains']].head(1)"
      ],
      "execution_count": 0,
      "outputs": [
        {
          "output_type": "execute_result",
          "data": {
            "text/html": [
              "<div>\n",
              "<style scoped>\n",
              "    .dataframe tbody tr th:only-of-type {\n",
              "        vertical-align: middle;\n",
              "    }\n",
              "\n",
              "    .dataframe tbody tr th {\n",
              "        vertical-align: top;\n",
              "    }\n",
              "\n",
              "    .dataframe thead th {\n",
              "        text-align: right;\n",
              "    }\n",
              "</style>\n",
              "<table border=\"1\" class=\"dataframe\">\n",
              "  <thead>\n",
              "    <tr style=\"text-align: right;\">\n",
              "      <th></th>\n",
              "      <th>Gains</th>\n",
              "      <th>WhiteGains</th>\n",
              "      <th>BlackGains</th>\n",
              "    </tr>\n",
              "  </thead>\n",
              "  <tbody>\n",
              "    <tr>\n",
              "      <th>391</th>\n",
              "      <td>[118, 166, 128, 35, -33, -64, -105, -121, -160...</td>\n",
              "      <td>[118, 128, -33, -105, -160, -197, -165, -12, -...</td>\n",
              "      <td>[166, 35, -64, -121, -197, -203, -85, -175, -1...</td>\n",
              "    </tr>\n",
              "  </tbody>\n",
              "</table>\n",
              "</div>"
            ],
            "text/plain": [
              "                                                 Gains  ...                                         BlackGains\n",
              "391  [118, 166, 128, 35, -33, -64, -105, -121, -160...  ...  [166, 35, -64, -121, -197, -203, -85, -175, -1...\n",
              "\n",
              "[1 rows x 3 columns]"
            ]
          },
          "metadata": {
            "tags": []
          },
          "execution_count": 550
        }
      ]
    },
    {
      "cell_type": "code",
      "metadata": {
        "id": "jCg_tQVzGL6Y",
        "colab_type": "code",
        "colab": {}
      },
      "source": [
        "black_sample = pd.DataFrame(complete_dataset_sample[['BlackGains','WhiteGains']])\n",
        "white_sample = pd.DataFrame(complete_dataset_sample[['WhiteGains','BlackGains']])\n",
        "\n",
        "black_sample.columns = ['PlayerGains','OpponentGains']\n",
        "white_sample.columns = ['PlayerGains','OpponentGains']\n",
        "white_sample=white_sample.append(black_sample)"
      ],
      "execution_count": 0,
      "outputs": []
    },
    {
      "cell_type": "code",
      "metadata": {
        "id": "FGemuh2bHQsV",
        "colab_type": "code",
        "outputId": "ba5e5cad-3921-4484-b79d-693d49a4f1bd",
        "colab": {
          "base_uri": "https://localhost:8080/",
          "height": 717
        }
      },
      "source": [
        "# print(white_sample)\n",
        "# print(type(white_sample))\n",
        "white_sample.loc[:, 'Diff'] = white_sample.head(10).apply(get_d_score, axis=1)"
      ],
      "execution_count": 0,
      "outputs": [
        {
          "output_type": "stream",
          "text": [
            "[118, 128, -33, -105, -160, -197, -165, -12, -288, -133, -649, -384, -229, -294, -343, -379, -78, -101, 72, -179]\n",
            "[166, 35, -64, -121, -197, -203, -85, -175, -171, -369, -577, -306, -273, -256, -349, -305, -57, -115, 117]\n",
            "[0 0 1 0 0 0 1 0 1 0 0 0 0 0 0 0 0 1 0 0] [0 1 0 1 1 0 0 0 0 0 0 0 0 1 0 0 0 0 0 0]\n",
            "141.4213562373095\n",
            "[80, 140, 90, -34, -808, -916, -1272, -1946, -2023, -1940, -1929, -1928, -1901, -2022, -1976, -1861, -2106, -1631, -1192, -109, 743, 1277, 962, 1647, 1656, 1653, 1840, 1516, 1524, 1577, 1641, 1887, 1582, 1628, 1496, 1584, 1576, 1298, 1288, 1404, 1324, 1365, 1281, 1319, 1296, 1238, 1272, 1080, 1043, 996, 908, 682, 582, 680, 724, 800, 105, 52, 22, 25, 50, 0, 54, 0, -62, 0, -19, 18, 33, -45, -68, -79, -190, -6, -129, -405, -201, -247, -823, -1119, -1816, -1576, -13120, -11218, -11218, -13515, -14598, -15795, -17010]\n",
            "[115, 132, 37, -425, -883, -1128, -1562, -2026, -1955, -1934, -1909, -1913, -1970, -2042, -1886, -2025, -1946, -1543, -725, 621, 917, 942, 1583, 1614, 1703, 1742, 1655, 1532, 1557, 1577, 1750, 1754, 1628, 1566, 1569, 1553, 1393, 1336, 1325, 1404, 1365, 1278, 1289, 1245, 1307, 1291, 1152, 1214, 937, 904, 770, 673, 622, 709, 738, 489, 89, 48, 13, 23, 50, 0, 54, -62, 0, -49, 39, 18, 24, -122, -61, -208, 9, -128, -211, -402, -295, -346, -1187, -1165, -2156, -7943, -11218, -11218, -11823, -14602, -14594, -17010]\n",
            "[0 0 1 2 0 1 1 0 1 1 3 1 2 1 0 3 0 0 1 1] [0 0 0 2 0 1 0 0 0 0 3 2 2 2 1 2 0 0 1 0]\n",
            "282.842712474619\n",
            "[75, 117, -36, -207, -255, -245, -208, -13, -303, -246, -129, -128, -57, 44, -107, -108, -16, 1218]\n",
            "[98, 55, -82, -297, -232, -253, -92, -172, -303, -119, -165, -42, -102, 35, -91, -164, 112]\n",
            "[0 0 0 0 1 0 1 0 2 0 0 0 0 0 1 0 0 1 0 0] [2 1 0 0 0 1 0 0 0 0 0 0 0 1 0 1 0 0 0 1]\n",
            "141.4213562373095\n",
            "[64, 198, 53, 129, 76, 202, 112, 136, 215, 261, 251, 251, 218, 238, 239, 43, 21, 70, 40, 101, 150, -15, -168, -166, -62, 27, 109, 159, 171, 196, 186, 297, 381, 298, 368, 486, 563, 684, 556, 639, 720, 565, 861, 765, 602, 651, 811, 46, -354, -402, -1473, -738, -721, -737, -649, -516, -670, -983, -1075, -11126, -11150, -11165, -11170, -11165, -11178, -11178, -11213, -11218, -11222, -11218, -11218]\n",
            "[44, 216, 96, 113, 92, 187, 70, 220, 223, 273, 275, 199, 233, 285, 98, 53, 33, 67, 17, 135, 96, -61, -168, -170, 19, 78, 126, 163, 202, 164, 244, 370, 327, 311, 438, 513, 634, 628, 594, 673, 642, 709, 816, 707, 554, 698, 553, -163, -412, -1303, -705, -750, -683, -800, -636, -435, -793, -1151, -6048, -11126, -11160, -11170, -11165, -11174, -11178, -11193, -11218, -11222, -11218, -11218]\n",
            "[0 0 0 1 0 0 0 0 1 0 0 0 2 0 3 1 1 2 0 0] [0 0 0 1 0 0 0 0 0 0 0 2 0 1 1 1 1 2 0 4]\n",
            "282.842712474619\n",
            "[73, -31, -213, -86, -98, -59, 30, -137, -180, 27, -124, -249, -584, -706, -729, -775, -694, -660, -677, -630, -641, -554, -617, -644, -642, -713, -707, -777, -717, -761, -705, -736, -753, -729, -630, -527, -520, -762, -498, -388, -535, -1275, -1633, 126, -1409, -1388, -1289, -782, -255, -3488, -2009, -388, -403, -583, -183, -510, -1611, -281, 18, 0, 0, -206, 0, 0, -9, 0, 0, 0, 0, 9]\n",
            "[-32, -52, -157, -123, -88, 43, -92, -284, 71, -37, -200, -421, -622, -737, -769, -828, -556, -653, -670, -652, -597, -573, -623, -614, -704, -704, -758, -726, -767, -720, -735, -734, -761, -641, -588, -482, -679, -666, -406, -459, -903, -1460, -6, -1389, -1410, -1397, -1143, -450, -1704, -3625, -371, -408, -439, -501, -266, -1569, -591, 18, 9, 0, -206, 0, -9, 0, 0, 0, 0, 0, 9, 0]\n",
            "[1 1 0 0 1 0 1 0 0 1 9 1 1 1 0 0 0 1 0 0] [ 1  1  0  0  1  0  2  0  0  2 10  1  0  0  1  0  0  1  0  0]\n",
            "282.842712474619\n",
            "[37, 148, 171, 132, -76, 138, 223, 23, 205, 121, 126, 54, -104, -108, -1391, -1509, -1858, -2478, 1954, 1737, 2765]\n",
            "[74, 159, 98, -12, 111, 45, 200, 193, 128, 101, 94, -4, -7, -739, -1800, -1354, -2089, -415, 1864, 1885]\n",
            "[0 0 1 0 0 0 0 0 0 0 0 0 1 1 0 1 0 0 0 0] [0 0 0 0 0 0 0 0 1 2 0 0 0 0 1 0 0 1 0 2]\n",
            "141.4213562373095\n",
            "[50, 141, 62, -33, 56, 97, 43, 1, 7, 1, -155, -134, 75, 174, 490, 809, 629, 740, 568, 604, 603, 771, 376, 295, 234, 257, 245, 256, 138, 245, 218, 350, 496, 206, 86, -350, -1831]\n",
            "[96, 95, 4, -13, 119, 73, -4, 47, -63, -24, -128, -101, 158, 209, 748, 699, 764, 644, 573, 590, 563, 659, 382, 270, 264, 211, 234, 215, 214, 149, 372, 354, 357, 221, -117, -1015, -2052]\n",
            "[0 0 0 0 0 0 1 0 0 0 3 0 0 0 1 2 1 1 1 1] [0 0 0 1 0 0 0 1 1 1 1 0 0 0 1 0 0 1 0 2]\n",
            "282.84271247425704\n",
            "[50, 176, 161, 225, 277, 211, 239, 224, 321, 328, 451, 360, 225, 171, 179, 71, -461, -490, -502, 12, -19, -72, -70, -306, -233, -212, -267, -293, -281, -237, -273, -304, -194, -92, -44]\n",
            "[98, 169, 208, 267, 246, 188, 245, 242, 356, 405, 397, 314, 133, 205, 109, -149, -485, -745, -8, 21, -61, -53, -236, -287, -165, -279, -251, -314, -235, -236, -371, -183, -221, 47]\n",
            "[1 0 1 1 0 1 0 0 1 0 0 1 0 0 0 1 0 1 0 0] [0 0 0 1 1 0 0 0 0 1 0 0 1 0 1 0 0 0 0 1]\n",
            "237.96823010429623\n",
            "[80, 78, 73, -72, -15, 81, 160, 166, 161, 243, -66, -73, 9, -28, -49, 11, -62, -122, 49, 199, 375]\n",
            "[107, 72, -13, -55, 49, 101, 193, 118, 237, 101, -86, -18, -9, -63, -9, 0, -95, -156, 224, 48]\n",
            "[0 0 2 2 0 1 0 1 1 0 1 1 0 0 1 0 0 2 2 0] [1 1 0 1 1 0 0 0 2 2 1 0 0 0 2 0 0 1 0 0]\n",
            "282.842712474619\n",
            "[61, 103, 51, 188, 216, 185, 268, 501, 375, 93, -116, -6, 11, 279, 1155]\n",
            "[104, 81, 41, 225, 225, 221, 290, 585, 169, 35, -188, 100, -123, 957]\n",
            "[0 0 0 0 0 0 0 0 0 1 0 1 0 0 0 1 1 0 0 1] [0 0 0 0 0 0 0 0 0 0 0 0 0 1 1 0 0 0 1 1]\n",
            "237.96823010429623\n"
          ],
          "name": "stdout"
        }
      ]
    },
    {
      "cell_type": "code",
      "metadata": {
        "id": "AetQGb3DLK75",
        "colab_type": "code",
        "outputId": "8ee56a65-aae2-400d-b6dd-ed1c5bd28b00",
        "colab": {
          "base_uri": "https://localhost:8080/",
          "height": 669
        }
      },
      "source": [
        "white_sample"
      ],
      "execution_count": 0,
      "outputs": [
        {
          "output_type": "execute_result",
          "data": {
            "text/html": [
              "<div>\n",
              "<style scoped>\n",
              "    .dataframe tbody tr th:only-of-type {\n",
              "        vertical-align: middle;\n",
              "    }\n",
              "\n",
              "    .dataframe tbody tr th {\n",
              "        vertical-align: top;\n",
              "    }\n",
              "\n",
              "    .dataframe thead th {\n",
              "        text-align: right;\n",
              "    }\n",
              "</style>\n",
              "<table border=\"1\" class=\"dataframe\">\n",
              "  <thead>\n",
              "    <tr style=\"text-align: right;\">\n",
              "      <th></th>\n",
              "      <th>PlayerGains</th>\n",
              "      <th>OpponentGains</th>\n",
              "      <th>Diff</th>\n",
              "    </tr>\n",
              "  </thead>\n",
              "  <tbody>\n",
              "    <tr>\n",
              "      <th>391</th>\n",
              "      <td>[118, 128, -33, -105, -160, -197, -165, -12, -...</td>\n",
              "      <td>[166, 35, -64, -121, -197, -203, -85, -175, -1...</td>\n",
              "      <td>141.421356</td>\n",
              "    </tr>\n",
              "    <tr>\n",
              "      <th>392</th>\n",
              "      <td>[80, 140, 90, -34, -808, -916, -1272, -1946, -...</td>\n",
              "      <td>[115, 132, 37, -425, -883, -1128, -1562, -2026...</td>\n",
              "      <td>282.842712</td>\n",
              "    </tr>\n",
              "    <tr>\n",
              "      <th>393</th>\n",
              "      <td>[75, 117, -36, -207, -255, -245, -208, -13, -3...</td>\n",
              "      <td>[98, 55, -82, -297, -232, -253, -92, -172, -30...</td>\n",
              "      <td>141.421356</td>\n",
              "    </tr>\n",
              "    <tr>\n",
              "      <th>394</th>\n",
              "      <td>[64, 198, 53, 129, 76, 202, 112, 136, 215, 261...</td>\n",
              "      <td>[44, 216, 96, 113, 92, 187, 70, 220, 223, 273,...</td>\n",
              "      <td>282.842712</td>\n",
              "    </tr>\n",
              "    <tr>\n",
              "      <th>395</th>\n",
              "      <td>[73, -31, -213, -86, -98, -59, 30, -137, -180,...</td>\n",
              "      <td>[-32, -52, -157, -123, -88, 43, -92, -284, 71,...</td>\n",
              "      <td>282.842712</td>\n",
              "    </tr>\n",
              "    <tr>\n",
              "      <th>396</th>\n",
              "      <td>[37, 148, 171, 132, -76, 138, 223, 23, 205, 12...</td>\n",
              "      <td>[74, 159, 98, -12, 111, 45, 200, 193, 128, 101...</td>\n",
              "      <td>141.421356</td>\n",
              "    </tr>\n",
              "    <tr>\n",
              "      <th>397</th>\n",
              "      <td>[50, 141, 62, -33, 56, 97, 43, 1, 7, 1, -155, ...</td>\n",
              "      <td>[96, 95, 4, -13, 119, 73, -4, 47, -63, -24, -1...</td>\n",
              "      <td>282.842712</td>\n",
              "    </tr>\n",
              "    <tr>\n",
              "      <th>398</th>\n",
              "      <td>[50, 176, 161, 225, 277, 211, 239, 224, 321, 3...</td>\n",
              "      <td>[98, 169, 208, 267, 246, 188, 245, 242, 356, 4...</td>\n",
              "      <td>237.968230</td>\n",
              "    </tr>\n",
              "    <tr>\n",
              "      <th>399</th>\n",
              "      <td>[80, 78, 73, -72, -15, 81, 160, 166, 161, 243,...</td>\n",
              "      <td>[107, 72, -13, -55, 49, 101, 193, 118, 237, 10...</td>\n",
              "      <td>282.842712</td>\n",
              "    </tr>\n",
              "    <tr>\n",
              "      <th>400</th>\n",
              "      <td>[61, 103, 51, 188, 216, 185, 268, 501, 375, 93...</td>\n",
              "      <td>[104, 81, 41, 225, 225, 221, 290, 585, 169, 35...</td>\n",
              "      <td>237.968230</td>\n",
              "    </tr>\n",
              "    <tr>\n",
              "      <th>391</th>\n",
              "      <td>[166, 35, -64, -121, -197, -203, -85, -175, -1...</td>\n",
              "      <td>[118, 128, -33, -105, -160, -197, -165, -12, -...</td>\n",
              "      <td>141.421356</td>\n",
              "    </tr>\n",
              "    <tr>\n",
              "      <th>392</th>\n",
              "      <td>[115, 132, 37, -425, -883, -1128, -1562, -2026...</td>\n",
              "      <td>[80, 140, 90, -34, -808, -916, -1272, -1946, -...</td>\n",
              "      <td>282.842712</td>\n",
              "    </tr>\n",
              "    <tr>\n",
              "      <th>393</th>\n",
              "      <td>[98, 55, -82, -297, -232, -253, -92, -172, -30...</td>\n",
              "      <td>[75, 117, -36, -207, -255, -245, -208, -13, -3...</td>\n",
              "      <td>141.421356</td>\n",
              "    </tr>\n",
              "    <tr>\n",
              "      <th>394</th>\n",
              "      <td>[44, 216, 96, 113, 92, 187, 70, 220, 223, 273,...</td>\n",
              "      <td>[64, 198, 53, 129, 76, 202, 112, 136, 215, 261...</td>\n",
              "      <td>282.842712</td>\n",
              "    </tr>\n",
              "    <tr>\n",
              "      <th>395</th>\n",
              "      <td>[-32, -52, -157, -123, -88, 43, -92, -284, 71,...</td>\n",
              "      <td>[73, -31, -213, -86, -98, -59, 30, -137, -180,...</td>\n",
              "      <td>282.842712</td>\n",
              "    </tr>\n",
              "    <tr>\n",
              "      <th>396</th>\n",
              "      <td>[74, 159, 98, -12, 111, 45, 200, 193, 128, 101...</td>\n",
              "      <td>[37, 148, 171, 132, -76, 138, 223, 23, 205, 12...</td>\n",
              "      <td>141.421356</td>\n",
              "    </tr>\n",
              "    <tr>\n",
              "      <th>397</th>\n",
              "      <td>[96, 95, 4, -13, 119, 73, -4, 47, -63, -24, -1...</td>\n",
              "      <td>[50, 141, 62, -33, 56, 97, 43, 1, 7, 1, -155, ...</td>\n",
              "      <td>282.842712</td>\n",
              "    </tr>\n",
              "    <tr>\n",
              "      <th>398</th>\n",
              "      <td>[98, 169, 208, 267, 246, 188, 245, 242, 356, 4...</td>\n",
              "      <td>[50, 176, 161, 225, 277, 211, 239, 224, 321, 3...</td>\n",
              "      <td>237.968230</td>\n",
              "    </tr>\n",
              "    <tr>\n",
              "      <th>399</th>\n",
              "      <td>[107, 72, -13, -55, 49, 101, 193, 118, 237, 10...</td>\n",
              "      <td>[80, 78, 73, -72, -15, 81, 160, 166, 161, 243,...</td>\n",
              "      <td>282.842712</td>\n",
              "    </tr>\n",
              "    <tr>\n",
              "      <th>400</th>\n",
              "      <td>[104, 81, 41, 225, 225, 221, 290, 585, 169, 35...</td>\n",
              "      <td>[61, 103, 51, 188, 216, 185, 268, 501, 375, 93...</td>\n",
              "      <td>237.968230</td>\n",
              "    </tr>\n",
              "  </tbody>\n",
              "</table>\n",
              "</div>"
            ],
            "text/plain": [
              "                                           PlayerGains  ...        Diff\n",
              "391  [118, 128, -33, -105, -160, -197, -165, -12, -...  ...  141.421356\n",
              "392  [80, 140, 90, -34, -808, -916, -1272, -1946, -...  ...  282.842712\n",
              "393  [75, 117, -36, -207, -255, -245, -208, -13, -3...  ...  141.421356\n",
              "394  [64, 198, 53, 129, 76, 202, 112, 136, 215, 261...  ...  282.842712\n",
              "395  [73, -31, -213, -86, -98, -59, 30, -137, -180,...  ...  282.842712\n",
              "396  [37, 148, 171, 132, -76, 138, 223, 23, 205, 12...  ...  141.421356\n",
              "397  [50, 141, 62, -33, 56, 97, 43, 1, 7, 1, -155, ...  ...  282.842712\n",
              "398  [50, 176, 161, 225, 277, 211, 239, 224, 321, 3...  ...  237.968230\n",
              "399  [80, 78, 73, -72, -15, 81, 160, 166, 161, 243,...  ...  282.842712\n",
              "400  [61, 103, 51, 188, 216, 185, 268, 501, 375, 93...  ...  237.968230\n",
              "391  [166, 35, -64, -121, -197, -203, -85, -175, -1...  ...  141.421356\n",
              "392  [115, 132, 37, -425, -883, -1128, -1562, -2026...  ...  282.842712\n",
              "393  [98, 55, -82, -297, -232, -253, -92, -172, -30...  ...  141.421356\n",
              "394  [44, 216, 96, 113, 92, 187, 70, 220, 223, 273,...  ...  282.842712\n",
              "395  [-32, -52, -157, -123, -88, 43, -92, -284, 71,...  ...  282.842712\n",
              "396  [74, 159, 98, -12, 111, 45, 200, 193, 128, 101...  ...  141.421356\n",
              "397  [96, 95, 4, -13, 119, 73, -4, 47, -63, -24, -1...  ...  282.842712\n",
              "398  [98, 169, 208, 267, 246, 188, 245, 242, 356, 4...  ...  237.968230\n",
              "399  [107, 72, -13, -55, 49, 101, 193, 118, 237, 10...  ...  282.842712\n",
              "400  [104, 81, 41, 225, 225, 221, 290, 585, 169, 35...  ...  237.968230\n",
              "\n",
              "[20 rows x 3 columns]"
            ]
          },
          "metadata": {
            "tags": []
          },
          "execution_count": 600
        }
      ]
    },
    {
      "cell_type": "code",
      "metadata": {
        "id": "8bRkrVAQH1yk",
        "colab_type": "code",
        "colab": {}
      },
      "source": [
        "complete_dataset_sample.dtypes"
      ],
      "execution_count": 0,
      "outputs": []
    },
    {
      "cell_type": "code",
      "metadata": {
        "id": "0OZtFCn9I2Mc",
        "colab_type": "code",
        "colab": {}
      },
      "source": [
        ""
      ],
      "execution_count": 0,
      "outputs": []
    }
  ]
}